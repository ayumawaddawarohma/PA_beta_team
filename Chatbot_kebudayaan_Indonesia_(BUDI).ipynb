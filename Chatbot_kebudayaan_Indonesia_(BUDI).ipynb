{
  "cells": [
    {
      "cell_type": "markdown",
      "metadata": {
        "id": "view-in-github",
        "colab_type": "text"
      },
      "source": [
        "<a href=\"https://colab.research.google.com/github/ayumawaddawarohma/ML_exercise/blob/main/Chatbot_kebudayaan_Indonesia_(BUDI).ipynb\" target=\"_parent\"><img src=\"https://colab.research.google.com/assets/colab-badge.svg\" alt=\"Open In Colab\"/></a>"
      ]
    },
    {
      "cell_type": "markdown",
      "metadata": {
        "id": "HKfM7ZXocOdE"
      },
      "source": [
        "# **Import Library dan Download Package**\n",
        "\n",
        "Reference \n",
        "[code](https://projectgurukul.org/deep-learning-python-chatbot/)"
      ]
    },
    {
      "cell_type": "markdown",
      "metadata": {
        "id": "fdGYXwX_fs6T"
      },
      "source": [
        "**Retrieval based model : Chatbot_kebudayaan Indonesia (BUDI)**"
      ]
    },
    {
      "cell_type": "code",
      "execution_count": null,
      "metadata": {
        "id": "n0Sb79gzWbUt"
      },
      "outputs": [],
      "source": [
        "import json\n",
        "import nltk\n",
        "import random\n",
        "import string\n",
        "import pickle\n",
        "import numpy as np\n",
        "import pandas as pd\n",
        "import tensorflow as tf\n",
        "import IPython.display as ipd \n",
        "import matplotlib.pyplot as plt\n",
        "from nltk.stem import WordNetLemmatizer\n",
        "from tensorflow.keras.models import Model\n",
        "from keras.utils.vis_utils import plot_model\n",
        "from sklearn.preprocessing import LabelEncoder\n",
        "from tensorflow.keras.preprocessing.text import Tokenizer\n",
        "from tensorflow.keras.preprocessing.sequence import pad_sequences\n",
        "from tensorflow.keras.models import Sequential\n",
        "from tensorflow.keras.layers import Dense, Dropout , Activation, Flatten , Conv2D, MaxPooling2D\n",
        "from tensorflow.keras.optimizers import SGD\n",
        "\n",
        "# kalau file untuk data exploration nya mau dipisah dengan Modelling harusnya library nya gk sebanyak ini ya"
      ]
    },
    {
      "cell_type": "code",
      "execution_count": null,
      "metadata": {
        "colab": {
          "base_uri": "https://localhost:8080/"
        },
        "id": "HbWbvSznbI_H",
        "outputId": "23752105-d4e5-4db2-f886-e56b36af2cfe"
      },
      "outputs": [
        {
          "output_type": "stream",
          "name": "stderr",
          "text": [
            "[nltk_data] Downloading package punkt to /root/nltk_data...\n",
            "[nltk_data]   Unzipping tokenizers/punkt.zip.\n",
            "[nltk_data] Downloading package wordnet to /root/nltk_data...\n",
            "[nltk_data] Downloading package omw-1.4 to /root/nltk_data...\n"
          ]
        },
        {
          "output_type": "execute_result",
          "data": {
            "text/plain": [
              "True"
            ]
          },
          "metadata": {},
          "execution_count": 2
        }
      ],
      "source": [
        "# Package sentence tokenizer\n",
        "nltk.download('punkt') \n",
        "# Package lemmatization\n",
        "nltk.download('wordnet')\n",
        "# Package multilingual wordnet data\n",
        "nltk.download('omw-1.4')"
      ]
    },
    {
      "cell_type": "markdown",
      "metadata": {
        "id": "qhSw9lpWb9tE"
      },
      "source": [
        "# **Load Dataset**"
      ]
    },
    {
      "cell_type": "markdown",
      "metadata": {
        "id": "JdrvioX7o9Xd"
      },
      "source": [
        "File dataset budi.json https://drive.google.com/file/d/1sLJpvSFVOSYKuZR2TufW_YuTTHo5j0gq/view?usp=sharing"
      ]
    },
    {
      "cell_type": "code",
      "execution_count": null,
      "metadata": {
        "colab": {
          "base_uri": "https://localhost:8080/"
        },
        "id": "WxdwsgiLbyw5",
        "outputId": "88c10df8-bd24-411c-83d0-0c781f9920bf"
      },
      "outputs": [
        {
          "output_type": "execute_result",
          "data": {
            "text/plain": [
              "('budi.json', <http.client.HTTPMessage at 0x7fee4772a490>)"
            ]
          },
          "metadata": {},
          "execution_count": 3
        }
      ],
      "source": [
        "from urllib import request\n",
        "Dataset= 'https://raw.githubusercontent.com/ayumawaddawarohma/ML_exercise/main/Chatbot%20kebudayaan%20Indonesia%20(BUDI)%20_PA_Kel_4/budi.json'\n",
        "request.urlretrieve(Dataset, \"budi.json\")"
      ]
    },
    {
      "cell_type": "code",
      "execution_count": null,
      "metadata": {
        "id": "VQ16TljbNbKT"
      },
      "outputs": [],
      "source": [
        "df = pd.read_json(Dataset)"
      ]
    },
    {
      "cell_type": "code",
      "execution_count": null,
      "metadata": {
        "id": "mBenLrsLWjNB"
      },
      "outputs": [],
      "source": [
        "tags = [] # data tag\n",
        "inputs = [] # data input atau pattern\n",
        "responses = {} # data respon\n",
        "words = [] # Data kata \n",
        "classes = [] # Data Kelas atau Tag\n",
        "documents = [] # Data Kalimat Dokumen\n",
        "ignore_words = ['?','!'] # Mengabaikan tanda spesial karakter (Kurang tanda seru, karena difile json nya ada tanda seru )"
      ]
    },
    {
      "cell_type": "code",
      "execution_count": null,
      "metadata": {
        "id": "DTf8ExvgXwqx"
      },
      "outputs": [],
      "source": [
        "for intent in df['intents']:\n",
        "  responses[intent['tag']]=intent['responses']\n",
        "  for lines in intent['patterns']:\n",
        "    inputs.append(lines)\n",
        "    tags.append(intent['tag'])\n",
        "    for pattern in intent['patterns']:\n",
        "      w = nltk.word_tokenize(pattern)\n",
        "      words.extend(w)\n",
        "      documents.append((w, intent['tag']))\n",
        "      # add to our classes list\n",
        "      if intent['tag'] not in classes:\n",
        "        classes.append(intent['tag'])"
      ]
    },
    {
      "cell_type": "code",
      "execution_count": null,
      "metadata": {
        "id": "a6Oj1XSzch5f"
      },
      "outputs": [],
      "source": [
        "# Konversi data json ke dalam dataframe\n",
        "data = pd.DataFrame({\"patterns\":inputs, \"tags\":tags})"
      ]
    },
    {
      "cell_type": "code",
      "execution_count": null,
      "metadata": {
        "colab": {
          "base_uri": "https://localhost:8080/",
          "height": 424
        },
        "id": "M_8RYLawdCMz",
        "outputId": "423a09d1-36ea-407d-f6ef-e58186e6cab7"
      },
      "outputs": [
        {
          "output_type": "execute_result",
          "data": {
            "text/plain": [
              "                                        patterns                  tags\n",
              "0                                          hallo             greetings\n",
              "1                                            hai             greetings\n",
              "2                                           halo             greetings\n",
              "3                                            hei             greetings\n",
              "4                                             hi             greetings\n",
              "...                                          ...                   ...\n",
              "3088             Nama Senjata dari Maluku Utara?  senjata_maluku_utara\n",
              "3089             Nama Senjata asal Maluku Utara?  senjata_maluku_utara\n",
              "3090       Apa Senjata tradisional Maluku Utara?  senjata_maluku_utara\n",
              "3091  Apa nama Senjata tradisional Maluku Utara?  senjata_maluku_utara\n",
              "3092      Nama Senjata tradisional Maluku Utara?  senjata_maluku_utara\n",
              "\n",
              "[3093 rows x 2 columns]"
            ],
            "text/html": [
              "\n",
              "  <div id=\"df-71043657-fb28-48bc-ab05-4c34c17d5d4e\">\n",
              "    <div class=\"colab-df-container\">\n",
              "      <div>\n",
              "<style scoped>\n",
              "    .dataframe tbody tr th:only-of-type {\n",
              "        vertical-align: middle;\n",
              "    }\n",
              "\n",
              "    .dataframe tbody tr th {\n",
              "        vertical-align: top;\n",
              "    }\n",
              "\n",
              "    .dataframe thead th {\n",
              "        text-align: right;\n",
              "    }\n",
              "</style>\n",
              "<table border=\"1\" class=\"dataframe\">\n",
              "  <thead>\n",
              "    <tr style=\"text-align: right;\">\n",
              "      <th></th>\n",
              "      <th>patterns</th>\n",
              "      <th>tags</th>\n",
              "    </tr>\n",
              "  </thead>\n",
              "  <tbody>\n",
              "    <tr>\n",
              "      <th>0</th>\n",
              "      <td>hallo</td>\n",
              "      <td>greetings</td>\n",
              "    </tr>\n",
              "    <tr>\n",
              "      <th>1</th>\n",
              "      <td>hai</td>\n",
              "      <td>greetings</td>\n",
              "    </tr>\n",
              "    <tr>\n",
              "      <th>2</th>\n",
              "      <td>halo</td>\n",
              "      <td>greetings</td>\n",
              "    </tr>\n",
              "    <tr>\n",
              "      <th>3</th>\n",
              "      <td>hei</td>\n",
              "      <td>greetings</td>\n",
              "    </tr>\n",
              "    <tr>\n",
              "      <th>4</th>\n",
              "      <td>hi</td>\n",
              "      <td>greetings</td>\n",
              "    </tr>\n",
              "    <tr>\n",
              "      <th>...</th>\n",
              "      <td>...</td>\n",
              "      <td>...</td>\n",
              "    </tr>\n",
              "    <tr>\n",
              "      <th>3088</th>\n",
              "      <td>Nama Senjata dari Maluku Utara?</td>\n",
              "      <td>senjata_maluku_utara</td>\n",
              "    </tr>\n",
              "    <tr>\n",
              "      <th>3089</th>\n",
              "      <td>Nama Senjata asal Maluku Utara?</td>\n",
              "      <td>senjata_maluku_utara</td>\n",
              "    </tr>\n",
              "    <tr>\n",
              "      <th>3090</th>\n",
              "      <td>Apa Senjata tradisional Maluku Utara?</td>\n",
              "      <td>senjata_maluku_utara</td>\n",
              "    </tr>\n",
              "    <tr>\n",
              "      <th>3091</th>\n",
              "      <td>Apa nama Senjata tradisional Maluku Utara?</td>\n",
              "      <td>senjata_maluku_utara</td>\n",
              "    </tr>\n",
              "    <tr>\n",
              "      <th>3092</th>\n",
              "      <td>Nama Senjata tradisional Maluku Utara?</td>\n",
              "      <td>senjata_maluku_utara</td>\n",
              "    </tr>\n",
              "  </tbody>\n",
              "</table>\n",
              "<p>3093 rows × 2 columns</p>\n",
              "</div>\n",
              "      <button class=\"colab-df-convert\" onclick=\"convertToInteractive('df-71043657-fb28-48bc-ab05-4c34c17d5d4e')\"\n",
              "              title=\"Convert this dataframe to an interactive table.\"\n",
              "              style=\"display:none;\">\n",
              "        \n",
              "  <svg xmlns=\"http://www.w3.org/2000/svg\" height=\"24px\"viewBox=\"0 0 24 24\"\n",
              "       width=\"24px\">\n",
              "    <path d=\"M0 0h24v24H0V0z\" fill=\"none\"/>\n",
              "    <path d=\"M18.56 5.44l.94 2.06.94-2.06 2.06-.94-2.06-.94-.94-2.06-.94 2.06-2.06.94zm-11 1L8.5 8.5l.94-2.06 2.06-.94-2.06-.94L8.5 2.5l-.94 2.06-2.06.94zm10 10l.94 2.06.94-2.06 2.06-.94-2.06-.94-.94-2.06-.94 2.06-2.06.94z\"/><path d=\"M17.41 7.96l-1.37-1.37c-.4-.4-.92-.59-1.43-.59-.52 0-1.04.2-1.43.59L10.3 9.45l-7.72 7.72c-.78.78-.78 2.05 0 2.83L4 21.41c.39.39.9.59 1.41.59.51 0 1.02-.2 1.41-.59l7.78-7.78 2.81-2.81c.8-.78.8-2.07 0-2.86zM5.41 20L4 18.59l7.72-7.72 1.47 1.35L5.41 20z\"/>\n",
              "  </svg>\n",
              "      </button>\n",
              "      \n",
              "  <style>\n",
              "    .colab-df-container {\n",
              "      display:flex;\n",
              "      flex-wrap:wrap;\n",
              "      gap: 12px;\n",
              "    }\n",
              "\n",
              "    .colab-df-convert {\n",
              "      background-color: #E8F0FE;\n",
              "      border: none;\n",
              "      border-radius: 50%;\n",
              "      cursor: pointer;\n",
              "      display: none;\n",
              "      fill: #1967D2;\n",
              "      height: 32px;\n",
              "      padding: 0 0 0 0;\n",
              "      width: 32px;\n",
              "    }\n",
              "\n",
              "    .colab-df-convert:hover {\n",
              "      background-color: #E2EBFA;\n",
              "      box-shadow: 0px 1px 2px rgba(60, 64, 67, 0.3), 0px 1px 3px 1px rgba(60, 64, 67, 0.15);\n",
              "      fill: #174EA6;\n",
              "    }\n",
              "\n",
              "    [theme=dark] .colab-df-convert {\n",
              "      background-color: #3B4455;\n",
              "      fill: #D2E3FC;\n",
              "    }\n",
              "\n",
              "    [theme=dark] .colab-df-convert:hover {\n",
              "      background-color: #434B5C;\n",
              "      box-shadow: 0px 1px 3px 1px rgba(0, 0, 0, 0.15);\n",
              "      filter: drop-shadow(0px 1px 2px rgba(0, 0, 0, 0.3));\n",
              "      fill: #FFFFFF;\n",
              "    }\n",
              "  </style>\n",
              "\n",
              "      <script>\n",
              "        const buttonEl =\n",
              "          document.querySelector('#df-71043657-fb28-48bc-ab05-4c34c17d5d4e button.colab-df-convert');\n",
              "        buttonEl.style.display =\n",
              "          google.colab.kernel.accessAllowed ? 'block' : 'none';\n",
              "\n",
              "        async function convertToInteractive(key) {\n",
              "          const element = document.querySelector('#df-71043657-fb28-48bc-ab05-4c34c17d5d4e');\n",
              "          const dataTable =\n",
              "            await google.colab.kernel.invokeFunction('convertToInteractive',\n",
              "                                                     [key], {});\n",
              "          if (!dataTable) return;\n",
              "\n",
              "          const docLinkHtml = 'Like what you see? Visit the ' +\n",
              "            '<a target=\"_blank\" href=https://colab.research.google.com/notebooks/data_table.ipynb>data table notebook</a>'\n",
              "            + ' to learn more about interactive tables.';\n",
              "          element.innerHTML = '';\n",
              "          dataTable['output_type'] = 'display_data';\n",
              "          await google.colab.output.renderOutput(dataTable, element);\n",
              "          const docLink = document.createElement('div');\n",
              "          docLink.innerHTML = docLinkHtml;\n",
              "          element.appendChild(docLink);\n",
              "        }\n",
              "      </script>\n",
              "    </div>\n",
              "  </div>\n",
              "  "
            ]
          },
          "metadata": {},
          "execution_count": 8
        }
      ],
      "source": [
        "data"
      ]
    },
    {
      "cell_type": "markdown",
      "metadata": {
        "id": "zFgiaEbJduz8"
      },
      "source": [
        "# **Tahap Data Preprocessing**"
      ]
    },
    {
      "cell_type": "code",
      "execution_count": null,
      "metadata": {
        "id": "kgEyI-1l-o_t"
      },
      "outputs": [],
      "source": [
        "# Removing Punctuations (Menghilangkan Punktuasi)\n",
        "data['patterns'] = data['patterns'].apply(lambda wrd:[ltrs.lower() for ltrs in wrd if ltrs not in string.punctuation])\n",
        "data['patterns'] = data['patterns'].apply(lambda wrd: ''.join(wrd))"
      ]
    },
    {
      "cell_type": "code",
      "execution_count": null,
      "metadata": {
        "colab": {
          "base_uri": "https://localhost:8080/"
        },
        "id": "2Ei_rtJ_Z3IP",
        "outputId": "87b288e0-b1cd-45c5-d928-0ce4fd3c5a03"
      },
      "outputs": [
        {
          "output_type": "stream",
          "name": "stdout",
          "text": [
            "123 Kata Unik ['aceh', 'adat', 'afternoon', 'alat', 'apa', 'asal', 'babel', 'bai', 'bali', 'bangka', 'banten', 'banyak', 'barat', 'belitung', 'bengkulu', 'berasal', 'bro', 'budi', 'bye', 'byee', 'dadah', 'daerah', 'dah', 'dari', 'di', 'diambil', 'dihasilkan', 'diy', 'dki', 'good', 'gorontalo', 'hai', 'hallo', 'halo', 'hei', 'hi', 'hy', 'informasi', 'istimewa', 'itu', 'jabar', 'jakarta', 'jambi', 'jateng', 'jatim', 'jawa', 'jogja', 'jumpa', 'kalbar', 'kalimantan', 'kalsel', 'kaltara', 'kalteng', 'kaltim', 'kasih', 'kawan', 'kenal', 'kepri', 'kepualauan', 'kepulauan', 'kerajinan', 'khas', 'khast', 'lagu', 'lampung', 'makanan', 'makasih', 'malam', 'maluku', 'malut', 'mana', 'morning', 'musik', 'nama', 'ntb', 'ntt', 'nusa', 'oleh', 'pagi', 'pakaian', 'papua', 'pegunungan', 'provinsi', 'referensi', 'riau', 'riau/kepri', 'rumah', 'saja', 'salam', 'sampai', 'see', 'selamat', 'selatan', 'senjata', 'si', 'siang', 'sore', 'sulawesi', 'sulbar', 'sulsel', 'sulteng', 'sultra', 'sulut', 'sumatera', 'sumbar', 'sumber', 'sumsel', 'sumut', 'tari', 'tarian', 'tengah', 'tenggara', 'terima', 'thank', 'thanks', 'timur', 'tinggal', 'tradisional', 'tradisonal', 'utara', 'yang', 'yogyakarta', 'you']\n"
          ]
        }
      ],
      "source": [
        "# Proses lematisasi\n",
        "lemmatizer = WordNetLemmatizer()\n",
        "words = [lemmatizer.lemmatize(word.lower()) for word in words if word not in ignore_words]\n",
        "words = sorted(list(set(words)))\n",
        "\n",
        "print (len(words), \"Kata Unik\", words)"
      ]
    },
    {
      "cell_type": "code",
      "execution_count": null,
      "metadata": {
        "colab": {
          "base_uri": "https://localhost:8080/"
        },
        "id": "xtnVTTiGd-r0",
        "outputId": "0ea1c8fb-0206-4286-c9f3-f716b9e86ce1"
      },
      "outputs": [
        {
          "output_type": "stream",
          "name": "stdout",
          "text": [
            "278 Label ['Pakaian_Daerah_Bali', 'Pakaian_Daerah_Bangka_Belitung', 'Pakaian_Daerah_Banten', 'Pakaian_Daerah_Bengkulu', 'Pakaian_Daerah_Gorontalo', 'Pakaian_Daerah_Jakarta', 'Pakaian_Daerah_Jambi', 'Pakaian_Daerah_Jawa_Barat', 'Pakaian_Daerah_Jawa_Tengah', 'Pakaian_Daerah_Jawa_Timur', 'Pakaian_Daerah_Kalimantan_Barat', 'Pakaian_Daerah_Kalimantan_Selatan', 'Pakaian_Daerah_Kalimantan_Tengah', 'Pakaian_Daerah_Kalimantan_Timur', 'Pakaian_Daerah_Kalimantan_Utara', 'Pakaian_Daerah_Kepulauan_Riau', 'Pakaian_Daerah_Lampung', 'Pakaian_Daerah_Maluku', 'Pakaian_Daerah_Maluku_Utara', 'Pakaian_Daerah_Nanggroe_Aceh_Darussalam', 'Pakaian_Daerah_Nusa_Tenggara_Barat', 'Pakaian_Daerah_Nusa_Tenggara_Timur', 'Pakaian_Daerah_Papua', 'Pakaian_Daerah_Papua_Barat', 'Pakaian_Daerah_Riau', 'Pakaian_Daerah_Sulawesi_Barat', 'Pakaian_Daerah_Sulawesi_Selatan', 'Pakaian_Daerah_Sulawesi_Tengah', 'Pakaian_Daerah_Sulawesi_Tenggara', 'Pakaian_Daerah_Sulawesi_Utara', 'Pakaian_Daerah_Sumatera_Barat', 'Pakaian_Daerah_Sumatera_Selatan', 'Pakaian_Daerah_Sumatera_Utara', 'Pakaian_Daerah_Yogyakarta', 'Tari_Tradisional_Aceh', 'Tari_tradisional_Bali', 'Tari_tradisional_Bangka_Belitung', 'Tari_tradisional_Banten', 'Tari_tradisional_Bengkulu', 'Tari_tradisional_DKI_Jakarta', 'Tari_tradisional_Daerah_Istimewa_Yogyakarta', 'Tari_tradisional_Gorontalo', 'Tari_tradisional_Jambi', 'Tari_tradisional_Jawa_Barat', 'Tari_tradisional_Jawa_Tengah', 'Tari_tradisional_Jawa_Timur', 'Tari_tradisional_Kalimantan_Barat', 'Tari_tradisional_Kalimantan_Selatan', 'Tari_tradisional_Kalimantan_Tengah', 'Tari_tradisional_Kalimantan_Timur', 'Tari_tradisional_Kalimantan_Utara', 'Tari_tradisional_Kepulauan_Riau', 'Tari_tradisional_Lampung', 'Tari_tradisional_Maluku', 'Tari_tradisional_Maluku_Utara', 'Tari_tradisional_Nusa_Tenggara_Barat', 'Tari_tradisional_Nusa_Tenggara_Timur', 'Tari_tradisional_Papua', 'Tari_tradisional_Papua_Barat', 'Tari_tradisional_Riau', 'Tari_tradisional_Sulawesi_Barat', 'Tari_tradisional_Sulawesi_Selatan', 'Tari_tradisional_Sulawesi_Tengah', 'Tari_tradisional_Sulawesi_Tenggara', 'Tari_tradisional_Sulawesi_Utara', 'Tari_tradisional_Sumatera Barat', 'Tari_tradisional_Sumatera Utara', 'Tari_tradisional_Sumatera_Selatan', 'alatmusik_aceh', 'alatmusik_bali', 'alatmusik_bangka_belitung', 'alatmusik_banten', 'alatmusik_bengkulu', 'alatmusik_gorontalo', 'alatmusik_jakarta', 'alatmusik_jambi', 'alatmusik_jawa_barat', 'alatmusik_jawa_tengah', 'alatmusik_jawa_timur', 'alatmusik_kalimantan_barat', 'alatmusik_kalimantan_selatan', 'alatmusik_kalimantan_tengah', 'alatmusik_kalimantan_timur', 'alatmusik_kalimantan_utara', 'alatmusik_lampung', 'alatmusik_maluku', 'alatmusik_maluku_utara', 'alatmusik_nusa_tenggara_barat', 'alatmusik_nusa_tenggara_timur', 'alatmusik_papua', 'alatmusik_papua_barat', 'alatmusik_riau', 'alatmusik_sulawesi_barat', 'alatmusik_sulawesi_selatan', 'alatmusik_sulawesi_tengah', 'alatmusik_sulawesi_tenggara', 'alatmusik_sulawesi_utara', 'alatmusik_sumatera_barat', 'alatmusik_sumatera_selatan', 'alatmusik_sumatera_utara', 'alatmusik_yogyakarta', 'goodbye', 'greetings', 'help', 'kerajinan_aceh', 'kerajinan_bali', 'kerajinan_bangka_belitung', 'kerajinan_banten', 'kerajinan_bengkulu', 'kerajinan_di_yogyakarta', 'kerajinan_dki_jakarta', 'kerajinan_gorontalo', 'kerajinan_jawa_barat', 'kerajinan_jawa_tengah', 'kerajinan_jawa_timur', 'kerajinan_kalimantan_barat', 'kerajinan_kalimantan_selatan', 'kerajinan_kalimantan_tengah', 'kerajinan_kalimantan_timur', 'kerajinan_kalimantan_utara', 'kerajinan_kepulauan_jambi', 'kerajinan_kepulauan_riau', 'kerajinan_lampung', 'kerajinan_maluku', 'kerajinan_maluku_utara', 'kerajinan_nusa_tenggara_barat', 'kerajinan_nusa_tenggara_timur', 'kerajinan_papua', 'kerajinan_papua_barat', 'kerajinan_riau', 'kerajinan_sulawesi_barat', 'kerajinan_sulawesi_selatan', 'kerajinan_sulawesi_tengah', 'kerajinan_sulawesi_tenggara', 'kerajinan_sulawesi_utara', 'kerajinan_sumatera_barat', 'kerajinan_sumatera_selatan', 'kerajinan_sumut', 'lagudaerah_aceh', 'lagudaerah_bali', 'lagudaerah_bangkabelitung', 'lagudaerah_banten', 'lagudaerah_diy', 'lagudaerah_gorontalo', 'lagudaerah_jabar', 'lagudaerah_jakarta', 'lagudaerah_jambi', 'lagudaerah_jateng', 'lagudaerah_jatim', 'lagudaerah_kalbar', 'lagudaerah_kalsel', 'lagudaerah_kaltara', 'lagudaerah_kalteng', 'lagudaerah_kaltim', 'lagudaerah_kepri', 'lagudaerah_lampung', 'lagudaerah_maluku', 'lagudaerah_malut', 'lagudaerah_ntb', 'lagudaerah_ntt', 'lagudaerah_papua', 'lagudaerah_papuabarat', 'lagudaerah_riau', 'lagudaerah_sulbar', 'lagudaerah_sulsel', 'lagudaerah_sulteng', 'lagudaerah_sultra', 'lagudaerah_sulut', 'lagudaerah_sumbar', 'lagudaerah_sumsel', 'lagudaerah_sumut', 'makanan_aceh', 'makanan_bali', 'makanan_bangkabelitung', 'makanan_banten', 'makanan_bengkulu', 'makanan_diy', 'makanan_gorontalo', 'makanan_jabar', 'makanan_jakarta', 'makanan_jambi', 'makanan_jateng', 'makanan_jatim', 'makanan_kalbar', 'makanan_kalsel', 'makanan_kaltara', 'makanan_kalteng', 'makanan_kaltim', 'makanan_kepri', 'makanan_lampung', 'makanan_maluku', 'makanan_malut', 'makanan_ntb', 'makanan_ntt', 'makanan_papua', 'makanan_papuabarat', 'makanan_riau', 'makanan_sulbar', 'makanan_sulsel', 'makanan_sulteng', 'makanan_sultra', 'makanan_sulut', 'makanan_sumbar', 'makanan_sumsel', 'makanan_sumut', 'refrences', 'rumahadat_aceh', 'rumahadat_bali', 'rumahadat_bangkabelitung', 'rumahadat_banten', 'rumahadat_bengkulu', 'rumahadat_diy', 'rumahadat_gorontalo', 'rumahadat_jabar', 'rumahadat_jakarta', 'rumahadat_jambi', 'rumahadat_jateng', 'rumahadat_jatim', 'rumahadat_kalbar', 'rumahadat_kalsel', 'rumahadat_kaltara', 'rumahadat_kalteng', 'rumahadat_kaltim', 'rumahadat_kepri', 'rumahadat_lampung', 'rumahadat_maluku', 'rumahadat_malut', 'rumahadat_ntb', 'rumahadat_ntt', 'rumahadat_papua', 'rumahadat_papuabarat', 'rumahadat_papuapegteng', 'rumahadat_papuaselatan', 'rumahadat_papuatengah', 'rumahadat_riau', 'rumahadat_sulbar', 'rumahadat_sulsel', 'rumahadat_sulteng', 'rumahadat_sultra', 'rumahadat_sulut', 'rumahadat_sumbar', 'rumahadat_sumsel', 'rumahadat_sumut', 'senjata_aceh', 'senjata_bali', 'senjata_bangka_belitung', 'senjata_banten', 'senjata_bengkulu', 'senjata_di_yogyakarta', 'senjata_gorontalo', 'senjata_jakarta', 'senjata_jambi', 'senjata_jawa_barat', 'senjata_jawa_tengah', 'senjata_jawa_timur', 'senjata_kalimantan_barat', 'senjata_kalimantan_selatan', 'senjata_kalimantan_tengah', 'senjata_kalimantan_timur', 'senjata_kalimantan_utara', 'senjata_kepulauan_riau', 'senjata_lampung', 'senjata_maluku', 'senjata_maluku_utara', 'senjata_nusa_tenggara_barat', 'senjata_nusa_tenggara_timur', 'senjata_papua', 'senjata_papua_barat', 'senjata_riau', 'senjata_sulawesi_barat', 'senjata_sulawesi_selatan', 'senjata_sulawesi_tengah', 'senjata_sulawesi_tenggara', 'senjata_sulawesi_utara', 'senjata_sumatera_barat', 'senjata_sumatera_selatan', 'senjata_sumatera_utara', 'terimakasih']\n"
          ]
        }
      ],
      "source": [
        "# Mensort tag\n",
        "classes = sorted(list(set(classes)))\n",
        "print(len(classes), \"Label\", classes)"
      ]
    },
    {
      "cell_type": "code",
      "execution_count": null,
      "metadata": {
        "colab": {
          "base_uri": "https://localhost:8080/"
        },
        "id": "CH_rsD0Hex-I",
        "outputId": "425f5568-8846-4e28-8fa3-f29f7c55d05d"
      },
      "outputs": [
        {
          "output_type": "stream",
          "name": "stdout",
          "text": [
            "36555 documents\n"
          ]
        }
      ],
      "source": [
        "# Melihat keseluruhan data teks\n",
        "print (len(documents), \"documents\")"
      ]
    },
    {
      "cell_type": "code",
      "execution_count": null,
      "metadata": {
        "colab": {
          "base_uri": "https://localhost:8080/"
        },
        "id": "9AoEtX0MfyTO",
        "outputId": "47a5e608-fbbb-4746-caf8-e55ff2e0b1a4"
      },
      "outputs": [
        {
          "output_type": "execute_result",
          "data": {
            "text/plain": [
              "[[80],\n",
              " [81],\n",
              " [82],\n",
              " [88],\n",
              " [89],\n",
              " [90],\n",
              " [91],\n",
              " [92],\n",
              " [93],\n",
              " [94],\n",
              " [95],\n",
              " [96],\n",
              " [80, 79],\n",
              " [81, 79],\n",
              " [82, 79],\n",
              " [97],\n",
              " [98],\n",
              " [99],\n",
              " [100, 101],\n",
              " [3, 102, 79],\n",
              " [5, 103, 104, 105, 44, 106],\n",
              " [26, 107],\n",
              " [108],\n",
              " [109],\n",
              " [83],\n",
              " [110],\n",
              " [111, 83],\n",
              " [112, 113],\n",
              " [114, 115],\n",
              " [116],\n",
              " [117, 84],\n",
              " [118],\n",
              " [119, 84],\n",
              " [85, 86],\n",
              " [120],\n",
              " [85, 86, 121],\n",
              " [3, 15, 5, 41],\n",
              " [3, 49, 15, 26, 41],\n",
              " [3, 1, 15, 6, 41],\n",
              " [3, 1, 15, 5, 9, 41],\n",
              " [3, 1, 15, 41],\n",
              " [15, 41],\n",
              " [15, 6, 41],\n",
              " [15, 9, 41],\n",
              " [15, 2, 41],\n",
              " [15, 26, 41],\n",
              " [15, 44, 50, 51, 41],\n",
              " [3, 15, 5, 24, 19],\n",
              " [3, 49, 15, 26, 24, 19],\n",
              " [3, 1, 15, 6, 24, 19],\n",
              " [3, 1, 15, 5, 9, 24, 19],\n",
              " [3, 1, 15, 24, 19],\n",
              " [15, 24, 19],\n",
              " [15, 6, 24, 19],\n",
              " [15, 9, 24, 19],\n",
              " [15, 2, 24, 19],\n",
              " [15, 26, 24, 19],\n",
              " [15, 44, 50, 51, 24, 19],\n",
              " [3, 15, 5, 24, 12],\n",
              " [3, 49, 15, 26, 24, 12],\n",
              " [3, 1, 15, 6, 24, 12],\n",
              " [3, 1, 15, 5, 9, 24, 12],\n",
              " [3, 1, 15, 24, 12],\n",
              " [15, 24, 12],\n",
              " [15, 6, 24, 12],\n",
              " [15, 9, 24, 12],\n",
              " [15, 2, 24, 12],\n",
              " [15, 26, 24, 12],\n",
              " [15, 44, 50, 51, 24, 12],\n",
              " [3, 15, 5, 24, 22],\n",
              " [3, 49, 15, 26, 24, 22],\n",
              " [3, 1, 15, 6, 24, 22],\n",
              " [3, 1, 15, 5, 9, 24, 22],\n",
              " [3, 1, 15, 24, 22],\n",
              " [15, 24, 22],\n",
              " [15, 6, 24, 22],\n",
              " [15, 9, 24, 22],\n",
              " [15, 2, 24, 22],\n",
              " [15, 26, 24, 22],\n",
              " [15, 44, 50, 51, 24, 22],\n",
              " [3, 15, 5, 31],\n",
              " [3, 49, 15, 26, 31],\n",
              " [3, 1, 15, 6, 31],\n",
              " [3, 1, 15, 5, 9, 31],\n",
              " [3, 1, 15, 31],\n",
              " [15, 31],\n",
              " [15, 6, 31],\n",
              " [15, 9, 31],\n",
              " [15, 2, 31],\n",
              " [15, 26, 31],\n",
              " [15, 44, 50, 51, 31],\n",
              " [3, 15, 5, 46, 31],\n",
              " [3, 49, 15, 26, 46, 31],\n",
              " [3, 1, 15, 6, 46, 31],\n",
              " [3, 1, 15, 5, 9, 46, 31],\n",
              " [3, 1, 15, 46, 31],\n",
              " [15, 46, 31],\n",
              " [15, 6, 46, 31],\n",
              " [15, 9, 46, 31],\n",
              " [15, 2, 46, 31],\n",
              " [15, 26, 46, 31],\n",
              " [15, 44, 50, 51, 46, 31],\n",
              " [3, 15, 5, 42],\n",
              " [3, 49, 15, 26, 42],\n",
              " [3, 1, 15, 6, 42],\n",
              " [3, 1, 15, 5, 9, 42],\n",
              " [3, 1, 15, 42],\n",
              " [15, 42],\n",
              " [15, 6, 42],\n",
              " [15, 9, 42],\n",
              " [15, 2, 42],\n",
              " [15, 26, 42],\n",
              " [15, 44, 50, 51, 42],\n",
              " [3, 15, 5, 36, 37],\n",
              " [3, 49, 15, 26, 36, 37],\n",
              " [3, 1, 15, 6, 36, 37],\n",
              " [3, 1, 15, 5, 9, 36, 37],\n",
              " [3, 1, 15, 36, 37],\n",
              " [15, 36, 37],\n",
              " [15, 6, 36, 37],\n",
              " [15, 9, 36, 37],\n",
              " [15, 2, 36, 37],\n",
              " [15, 26, 36, 37],\n",
              " [15, 44, 50, 51, 36, 37],\n",
              " [3, 15, 5, 38],\n",
              " [3, 49, 15, 26, 38],\n",
              " [3, 1, 15, 6, 38],\n",
              " [3, 1, 15, 5, 9, 38],\n",
              " [3, 1, 15, 38],\n",
              " [15, 38],\n",
              " [15, 6, 38],\n",
              " [15, 9, 38],\n",
              " [15, 2, 38],\n",
              " [15, 26, 38],\n",
              " [15, 44, 50, 51, 38],\n",
              " [3, 15, 5, 39],\n",
              " [3, 49, 15, 26, 39],\n",
              " [3, 1, 15, 6, 39],\n",
              " [3, 1, 15, 5, 9, 39],\n",
              " [3, 1, 15, 39],\n",
              " [15, 39],\n",
              " [15, 6, 39],\n",
              " [15, 9, 39],\n",
              " [15, 2, 39],\n",
              " [15, 26, 39],\n",
              " [15, 44, 50, 51, 39],\n",
              " [3, 15, 5, 55, 40],\n",
              " [3, 49, 15, 26, 40],\n",
              " [3, 1, 15, 6, 55, 40],\n",
              " [3, 1, 15, 5, 9, 55, 40],\n",
              " [3, 1, 15, 55, 40],\n",
              " [15, 40],\n",
              " [15, 6, 55, 40],\n",
              " [15, 9, 55, 40],\n",
              " [15, 2, 40],\n",
              " [15, 26, 40],\n",
              " [15, 44, 50, 51, 55, 40],\n",
              " [3, 15, 5, 33],\n",
              " [3, 49, 15, 26, 33],\n",
              " [3, 1, 15, 6, 33],\n",
              " [3, 1, 15, 5, 9, 33],\n",
              " [3, 1, 15, 33],\n",
              " [15, 33],\n",
              " [15, 6, 33],\n",
              " [15, 9, 33],\n",
              " [15, 2, 33],\n",
              " [15, 26, 33],\n",
              " [15, 44, 50, 51, 33],\n",
              " [3, 15, 5, 25, 12],\n",
              " [3, 49, 15, 26, 25, 12],\n",
              " [3, 1, 15, 6, 25, 12],\n",
              " [3, 1, 15, 5, 9, 25, 12],\n",
              " [3, 1, 15, 25, 12],\n",
              " [15, 25, 12],\n",
              " [15, 6, 25, 12],\n",
              " [15, 9, 25, 12],\n",
              " [15, 2, 25, 12],\n",
              " [15, 26, 25, 12],\n",
              " [15, 44, 50, 51, 25, 12],\n",
              " [3, 15, 5, 25, 23],\n",
              " [3, 49, 15, 26, 25, 23],\n",
              " [3, 1, 15, 6, 25, 23],\n",
              " [3, 1, 15, 5, 9, 25, 23],\n",
              " [3, 1, 15, 25, 23],\n",
              " [15, 25, 23],\n",
              " [15, 6, 25, 23],\n",
              " [15, 9, 25, 23],\n",
              " [15, 2, 25, 23],\n",
              " [15, 26, 25, 23],\n",
              " [15, 44, 50, 51, 25, 23],\n",
              " [3, 15, 5, 76, 43],\n",
              " [3, 49, 15, 26, 43],\n",
              " [3, 1, 15, 6, 76, 43],\n",
              " [3, 1, 15, 5, 9, 76, 43],\n",
              " [3, 1, 15, 43],\n",
              " [15, 76, 43],\n",
              " [15, 6, 43],\n",
              " [15, 9, 76, 43],\n",
              " [15, 2, 43],\n",
              " [15, 26, 43],\n",
              " [15, 44, 50, 51, 76, 43],\n",
              " [3, 15, 5, 25, 27],\n",
              " [3, 49, 15, 26, 25, 27],\n",
              " [3, 1, 15, 6, 25, 27],\n",
              " [3, 1, 15, 5, 9, 25, 27],\n",
              " [3, 1, 15, 25, 27],\n",
              " [15, 25, 27],\n",
              " [15, 6, 25, 27],\n",
              " [15, 9, 25, 27],\n",
              " [15, 2, 25, 27],\n",
              " [15, 26, 25, 27],\n",
              " [15, 44, 50, 51, 25, 27],\n",
              " [3, 15, 5, 35],\n",
              " [3, 49, 15, 26, 35],\n",
              " [3, 1, 15, 6, 35],\n",
              " [3, 1, 15, 5, 9, 35],\n",
              " [3, 1, 15, 35],\n",
              " [15, 35],\n",
              " [15, 6, 35],\n",
              " [15, 9, 35],\n",
              " [15, 2, 35],\n",
              " [15, 26, 35],\n",
              " [15, 44, 50, 51, 35],\n",
              " [3, 15, 5, 32, 28, 12],\n",
              " [3, 49, 15, 26, 52],\n",
              " [3, 1, 15, 6, 32, 28, 12],\n",
              " [3, 1, 15, 5, 9, 52],\n",
              " [3, 1, 15, 32, 28, 52],\n",
              " [15, 32, 28, 12],\n",
              " [15, 6, 32, 28, 12],\n",
              " [15, 9, 32, 28, 12],\n",
              " [15, 2, 52],\n",
              " [15, 26, 52],\n",
              " [15, 44, 50, 51, 52],\n",
              " [3, 15, 5, 32, 28, 27],\n",
              " [3, 49, 15, 26, 53],\n",
              " [3, 1, 15, 6, 32, 28, 27],\n",
              " [3, 1, 15, 5, 9, 53],\n",
              " [3, 1, 15, 32, 28, 53],\n",
              " [15, 32, 28, 27],\n",
              " [15, 6, 32, 28, 27],\n",
              " [15, 9, 32, 28, 27],\n",
              " [15, 2, 53],\n",
              " [15, 26, 53],\n",
              " [15, 44, 50, 51, 53],\n",
              " [3, 15, 5, 17, 12],\n",
              " [3, 49, 15, 26, 17, 12],\n",
              " [3, 1, 15, 6, 17, 12],\n",
              " [3, 1, 15, 5, 9, 17, 12],\n",
              " [3, 1, 15, 17, 12],\n",
              " [15, 17, 12],\n",
              " [15, 6, 17, 12],\n",
              " [15, 9, 17, 12],\n",
              " [15, 2, 17, 12],\n",
              " [15, 26, 17, 12],\n",
              " [15, 44, 50, 51, 17, 12],\n",
              " [3, 15, 5, 17, 23],\n",
              " [3, 49, 15, 26, 17, 23],\n",
              " [3, 1, 15, 6, 17, 23],\n",
              " [3, 1, 15, 5, 9, 17, 23],\n",
              " [3, 1, 15, 17, 23],\n",
              " [15, 17, 23],\n",
              " [15, 6, 17, 23],\n",
              " [15, 9, 17, 23],\n",
              " [15, 2, 17, 23],\n",
              " [15, 26, 17, 23],\n",
              " [15, 44, 50, 51, 17, 23],\n",
              " [3, 15, 5, 17, 22],\n",
              " [3, 49, 15, 26, 17, 22],\n",
              " [3, 1, 15, 6, 17, 22],\n",
              " [3, 1, 15, 5, 9, 17, 22],\n",
              " [3, 1, 15, 17, 22],\n",
              " [15, 17, 22],\n",
              " [15, 6, 17, 22],\n",
              " [15, 9, 17, 22],\n",
              " [15, 2, 17, 22],\n",
              " [15, 26, 17, 22],\n",
              " [15, 44, 50, 51, 17, 22],\n",
              " [3, 15, 5, 17, 27],\n",
              " [3, 49, 15, 26, 17, 27],\n",
              " [3, 1, 15, 6, 17, 27],\n",
              " [3, 1, 15, 5, 9, 17, 27],\n",
              " [3, 1, 15, 17, 27],\n",
              " [15, 17, 27],\n",
              " [15, 6, 17, 27],\n",
              " [15, 9, 17, 27],\n",
              " [15, 2, 17, 27],\n",
              " [15, 26, 17, 27],\n",
              " [15, 44, 50, 51, 17, 27],\n",
              " [3, 15, 5, 17, 19],\n",
              " [3, 49, 15, 26, 17, 19],\n",
              " [3, 1, 15, 6, 17, 19],\n",
              " [3, 1, 15, 5, 9, 17, 19],\n",
              " [3, 1, 15, 17, 19],\n",
              " [15, 17, 19],\n",
              " [15, 6, 17, 19],\n",
              " [15, 9, 17, 19],\n",
              " [15, 2, 17, 19],\n",
              " [15, 26, 17, 19],\n",
              " [15, 44, 50, 51, 17, 19],\n",
              " [3, 15, 5, 16, 19],\n",
              " [3, 49, 15, 26, 16, 19],\n",
              " [3, 1, 15, 6, 16, 19],\n",
              " [3, 1, 15, 5, 9, 16, 19],\n",
              " [3, 1, 15, 16, 19],\n",
              " [15, 16, 19],\n",
              " [15, 6, 16, 19],\n",
              " [15, 9, 16, 19],\n",
              " [15, 2, 16, 19],\n",
              " [15, 26, 16, 19],\n",
              " [15, 44, 50, 51, 16, 19],\n",
              " [3, 15, 5, 34],\n",
              " [3, 49, 15, 26, 34],\n",
              " [3, 1, 15, 6, 34],\n",
              " [3, 1, 15, 5, 9, 34],\n",
              " [3, 1, 15, 34],\n",
              " [15, 34],\n",
              " [15, 6, 34],\n",
              " [15, 9, 34],\n",
              " [15, 2, 34],\n",
              " [15, 26, 34],\n",
              " [15, 44, 50, 51, 34],\n",
              " [3, 15, 5, 16, 23],\n",
              " [3, 49, 15, 26, 16, 23],\n",
              " [3, 1, 15, 6, 16, 23],\n",
              " [3, 1, 15, 5, 9, 16, 23],\n",
              " [3, 1, 15, 16, 23],\n",
              " [15, 16, 23],\n",
              " [15, 6, 16, 23],\n",
              " [15, 9, 16, 23],\n",
              " [15, 2, 16, 23],\n",
              " [15, 26, 16, 23],\n",
              " [15, 44, 50, 51, 16, 23],\n",
              " [3, 15, 5, 16, 12],\n",
              " [3, 49, 15, 26, 16, 12],\n",
              " [3, 1, 15, 6, 16, 12],\n",
              " [3, 1, 15, 5, 9, 16, 12],\n",
              " [3, 1, 15, 16, 12],\n",
              " [15, 16, 12],\n",
              " [15, 6, 16, 12],\n",
              " [15, 9, 16, 12],\n",
              " [15, 2, 16, 12],\n",
              " [15, 26, 16, 12],\n",
              " [15, 44, 50, 51, 16, 12],\n",
              " [3, 15, 5, 16, 22],\n",
              " [3, 49, 15, 26, 16, 22],\n",
              " [3, 1, 15, 6, 16, 22],\n",
              " [3, 1, 15, 5, 9, 16, 22],\n",
              " [3, 1, 15, 16, 22],\n",
              " [15, 16, 22],\n",
              " [15, 6, 16, 22],\n",
              " [15, 9, 16, 22],\n",
              " [15, 2, 16, 22],\n",
              " [15, 26, 16, 22],\n",
              " [15, 44, 50, 51, 16, 22],\n",
              " [3, 15, 5, 16, 28],\n",
              " [3, 49, 15, 26, 16, 28],\n",
              " [3, 1, 15, 6, 16, 28],\n",
              " [3, 1, 15, 5, 9, 16, 28],\n",
              " [3, 1, 15, 16, 28],\n",
              " [15, 16, 28],\n",
              " [15, 6, 16, 28],\n",
              " [15, 9, 16, 28],\n",
              " [15, 2, 16, 28],\n",
              " [15, 26, 16, 28],\n",
              " [15, 44, 50, 51, 16, 28],\n",
              " [3, 15, 5, 30],\n",
              " [3, 49, 15, 26, 30],\n",
              " [3, 1, 15, 6, 30],\n",
              " [3, 1, 15, 5, 9, 30],\n",
              " [3, 1, 15, 30],\n",
              " [15, 30],\n",
              " [15, 6, 30],\n",
              " [15, 9, 30],\n",
              " [15, 2, 30],\n",
              " [15, 26, 30],\n",
              " [15, 44, 50, 51, 30],\n",
              " [3, 15, 5, 30, 19],\n",
              " [3, 49, 15, 26, 30, 19],\n",
              " [3, 1, 15, 6, 30, 19],\n",
              " [3, 1, 15, 5, 9, 30, 19],\n",
              " [3, 1, 15, 30, 19],\n",
              " [15, 30, 19],\n",
              " [15, 6, 30, 19],\n",
              " [15, 9, 30, 19],\n",
              " [15, 2, 30, 19],\n",
              " [15, 26, 30, 19],\n",
              " [15, 44, 50, 51, 30, 19],\n",
              " [3, 15, 5, 29, 12],\n",
              " [3, 49, 15, 26, 29, 12],\n",
              " [3, 1, 15, 6, 29, 12],\n",
              " [3, 1, 15, 5, 9, 29, 12],\n",
              " [3, 1, 15, 29, 12],\n",
              " [15, 29, 12],\n",
              " [15, 6, 29, 12],\n",
              " [15, 9, 29, 12],\n",
              " [15, 2, 29, 12],\n",
              " [15, 26, 29, 12],\n",
              " [15, 44, 50, 51, 29, 12],\n",
              " [3, 15, 5, 29],\n",
              " [3, 49, 15, 26, 29],\n",
              " [3, 1, 15, 6, 29],\n",
              " [3, 1, 15, 5, 9, 29],\n",
              " [3, 1, 15, 29],\n",
              " [15, 29],\n",
              " [15, 6, 29],\n",
              " [15, 9, 29],\n",
              " [15, 2, 29],\n",
              " [15, 26, 29],\n",
              " [15, 44, 50, 51, 29],\n",
              " [3, 8, 4, 41],\n",
              " [3, 1, 8, 4, 41],\n",
              " [3, 1, 8, 4, 2, 41],\n",
              " [1, 8, 4, 41],\n",
              " [1, 8, 4, 2, 41],\n",
              " [8, 4, 41],\n",
              " [8, 4, 2, 41],\n",
              " [8, 4, 9, 41],\n",
              " [3, 8, 4, 24, 19],\n",
              " [3, 1, 8, 4, 24, 19],\n",
              " [3, 1, 8, 4, 2, 24, 19],\n",
              " [1, 8, 4, 24, 19],\n",
              " [1, 8, 4, 2, 24, 19],\n",
              " [8, 4, 24, 19],\n",
              " [8, 4, 2, 24, 19],\n",
              " [8, 4, 9, 24, 19],\n",
              " [3, 8, 4, 56],\n",
              " [3, 1, 8, 4, 56],\n",
              " [3, 1, 8, 4, 2, 56],\n",
              " [1, 8, 4, 56],\n",
              " [1, 8, 4, 2, 56],\n",
              " [8, 4, 56],\n",
              " [8, 4, 2, 56],\n",
              " [8, 4, 9, 56],\n",
              " [3, 8, 4, 24, 12],\n",
              " [3, 1, 8, 4, 24, 12],\n",
              " [3, 1, 8, 4, 2, 24, 12],\n",
              " [1, 8, 4, 24, 12],\n",
              " [1, 8, 4, 2, 24, 12],\n",
              " [8, 4, 24, 12],\n",
              " [8, 4, 2, 24, 12],\n",
              " [8, 4, 9, 24, 12],\n",
              " [3, 8, 4, 57],\n",
              " [3, 1, 8, 4, 57],\n",
              " [3, 1, 8, 4, 2, 57],\n",
              " [1, 8, 4, 57],\n",
              " [1, 8, 4, 2, 57],\n",
              " [8, 4, 57],\n",
              " [8, 4, 2, 57],\n",
              " [8, 4, 9, 57],\n",
              " [3, 8, 4, 31],\n",
              " [3, 1, 8, 4, 31],\n",
              " [3, 1, 8, 4, 2, 31],\n",
              " [1, 8, 4, 31],\n",
              " [1, 8, 4, 2, 31],\n",
              " [8, 4, 31],\n",
              " [8, 4, 2, 31],\n",
              " [8, 4, 9, 31],\n",
              " [3, 8, 4, 46, 31],\n",
              " [3, 1, 8, 4, 46, 31],\n",
              " [3, 1, 8, 4, 2, 46, 31],\n",
              " [1, 8, 4, 46, 31],\n",
              " [1, 8, 4, 2, 46, 31],\n",
              " [8, 4, 46, 31],\n",
              " [8, 4, 2, 46, 31],\n",
              " [8, 4, 9, 46, 31],\n",
              " [3, 8, 4, 58],\n",
              " [3, 1, 8, 4, 58],\n",
              " [3, 1, 8, 4, 2, 58],\n",
              " [1, 8, 4, 58],\n",
              " [1, 8, 4, 2, 58],\n",
              " [8, 4, 58],\n",
              " [8, 4, 2, 58],\n",
              " [8, 4, 9, 58],\n",
              " [3, 8, 4, 42],\n",
              " [3, 1, 8, 4, 42],\n",
              " [3, 1, 8, 4, 2, 42],\n",
              " [1, 8, 4, 42],\n",
              " [1, 8, 4, 2, 42],\n",
              " [8, 4, 42],\n",
              " [8, 4, 2, 42],\n",
              " [8, 4, 9, 42],\n",
              " [3, 8, 4, 38],\n",
              " [3, 1, 8, 4, 38],\n",
              " [3, 1, 8, 4, 2, 38],\n",
              " [1, 8, 4, 38],\n",
              " [1, 8, 4, 2, 38],\n",
              " [8, 4, 38],\n",
              " [8, 4, 2, 38],\n",
              " [8, 4, 9, 38],\n",
              " [3, 8, 4, 24, 22],\n",
              " [3, 1, 8, 4, 24, 22],\n",
              " [3, 1, 8, 4, 2, 24, 22],\n",
              " [1, 8, 4, 24, 22],\n",
              " [1, 8, 4, 2, 24, 22],\n",
              " [8, 4, 24, 22],\n",
              " [8, 4, 2, 24, 22],\n",
              " [8, 4, 9, 24, 22],\n",
              " [3, 8, 4, 59],\n",
              " [3, 1, 8, 4, 59],\n",
              " [3, 1, 8, 4, 2, 59],\n",
              " [1, 8, 4, 59],\n",
              " [1, 8, 4, 2, 59],\n",
              " [8, 4, 59],\n",
              " [8, 4, 2, 59],\n",
              " [8, 4, 9, 59],\n",
              " [3, 8, 4, 36, 37],\n",
              " [3, 1, 8, 4, 36, 37],\n",
              " [3, 1, 8, 4, 2, 36, 37],\n",
              " [1, 8, 4, 36, 37],\n",
              " [1, 8, 4, 2, 36, 37],\n",
              " [8, 4, 36, 37],\n",
              " [8, 4, 2, 36, 37],\n",
              " [8, 4, 9, 36, 37],\n",
              " [3, 8, 4, 60],\n",
              " [3, 1, 8, 4, 60],\n",
              " [3, 1, 8, 4, 2, 60],\n",
              " [1, 8, 4, 60],\n",
              " [1, 8, 4, 2, 60],\n",
              " [8, 4, 60],\n",
              " [8, 4, 2, 60],\n",
              " [8, 4, 9, 60],\n",
              " [3, 8, 4, 39],\n",
              " [3, 1, 8, 4, 39],\n",
              " [3, 1, 8, 4, 2, 39],\n",
              " [1, 8, 4, 39],\n",
              " [1, 8, 4, 2, 39],\n",
              " [8, 4, 39],\n",
              " [8, 4, 2, 39],\n",
              " [8, 4, 9, 39],\n",
              " [3, 8, 4, 40],\n",
              " [3, 1, 8, 4, 40],\n",
              " [3, 1, 8, 4, 2, 40],\n",
              " [1, 8, 4, 40],\n",
              " [1, 8, 4, 2, 40],\n",
              " [8, 4, 40],\n",
              " [8, 4, 2, 40],\n",
              " [8, 4, 9, 40],\n",
              " [3, 8, 4, 33],\n",
              " [3, 1, 8, 4, 33],\n",
              " [3, 1, 8, 4, 2, 33],\n",
              " [1, 8, 4, 33],\n",
              " [1, 8, 4, 9, 33],\n",
              " [1, 8, 4, 2, 33],\n",
              " [8, 4, 33],\n",
              " [8, 4, 2, 33],\n",
              " [8, 4, 9, 33],\n",
              " [3, 8, 4, 25, 12],\n",
              " [3, 1, 8, 4, 25, 12],\n",
              " [3, 1, 8, 4, 2, 25, 12],\n",
              " [1, 8, 4, 25, 12],\n",
              " [1, 8, 4, 2, 25, 12],\n",
              " [8, 4, 25, 12],\n",
              " [8, 4, 2, 25, 12],\n",
              " [8, 4, 9, 25, 12],\n",
              " [3, 8, 4, 61],\n",
              " [3, 1, 8, 4, 61],\n",
              " [3, 1, 8, 4, 2, 61],\n",
              " [1, 8, 4, 61],\n",
              " [1, 8, 4, 2, 61],\n",
              " [8, 4, 61],\n",
              " [8, 4, 2, 61],\n",
              " [8, 4, 9, 61],\n",
              " [3, 8, 4, 25, 23],\n",
              " [3, 1, 8, 4, 25, 23],\n",
              " [3, 1, 8, 4, 2, 25, 23],\n",
              " [1, 8, 4, 25, 23],\n",
              " [1, 8, 4, 2, 25, 23],\n",
              " [8, 4, 25, 23],\n",
              " [8, 4, 2, 25, 23],\n",
              " [8, 4, 9, 25, 23],\n",
              " [3, 8, 4, 62],\n",
              " [3, 1, 8, 4, 62],\n",
              " [3, 1, 8, 4, 2, 62],\n",
              " [1, 8, 4, 62],\n",
              " [1, 8, 4, 2, 62],\n",
              " [8, 4, 62],\n",
              " [8, 4, 2, 62],\n",
              " [8, 4, 9, 62],\n",
              " [3, 8, 4, 25, 27],\n",
              " [3, 1, 8, 4, 25, 27],\n",
              " [3, 1, 8, 4, 2, 25, 27],\n",
              " [1, 8, 4, 25, 27],\n",
              " [1, 8, 4, 2, 25, 27],\n",
              " [8, 4, 25, 27],\n",
              " [8, 4, 2, 25, 27],\n",
              " [8, 4, 9, 25, 27],\n",
              " [3, 8, 4, 64],\n",
              " [3, 1, 8, 4, 64],\n",
              " [1, 8, 4, 64],\n",
              " [1, 8, 4, 2, 64],\n",
              " [8, 4, 64],\n",
              " [8, 4, 2, 64],\n",
              " [8, 4, 9, 64],\n",
              " [3, 8, 4, 43],\n",
              " [3, 1, 8, 4, 43],\n",
              " [3, 1, 8, 4, 2, 43],\n",
              " [1, 8, 4, 43],\n",
              " [1, 8, 4, 2, 43],\n",
              " [8, 4, 43],\n",
              " [8, 4, 2, 43],\n",
              " [8, 4, 9, 43],\n",
              " [3, 8, 4, 54],\n",
              " [3, 1, 8, 4, 54],\n",
              " [1, 8, 4, 54],\n",
              " [1, 8, 4, 2, 54],\n",
              " [8, 4, 54],\n",
              " [8, 4, 2, 54],\n",
              " [8, 4, 9, 54],\n",
              " [3, 8, 4, 63],\n",
              " [3, 1, 8, 4, 63],\n",
              " [1, 8, 4, 63],\n",
              " [1, 8, 4, 2, 63],\n",
              " [8, 4, 63],\n",
              " [8, 4, 2, 63],\n",
              " [8, 4, 9, 63],\n",
              " [3, 8, 4, 17, 12],\n",
              " [3, 1, 8, 4, 17, 12],\n",
              " [3, 1, 8, 4, 2, 17, 12],\n",
              " [1, 8, 4, 17, 12],\n",
              " [1, 8, 4, 2, 17, 12],\n",
              " [8, 4, 17, 12],\n",
              " [8, 4, 2, 17, 12],\n",
              " [8, 4, 9, 17, 12],\n",
              " [3, 8, 4, 65],\n",
              " [3, 1, 8, 4, 65],\n",
              " [1, 8, 4, 65],\n",
              " [1, 8, 4, 2, 65],\n",
              " [8, 4, 65],\n",
              " [8, 4, 2, 65],\n",
              " [8, 4, 9, 65],\n",
              " [3, 8, 4, 17, 23],\n",
              " [3, 1, 8, 4, 17, 23],\n",
              " [3, 1, 8, 4, 2, 17, 23],\n",
              " [1, 8, 4, 17, 23],\n",
              " [1, 8, 4, 2, 17, 23],\n",
              " [8, 4, 17, 23],\n",
              " [8, 4, 2, 17, 23],\n",
              " [8, 4, 9, 17, 23],\n",
              " [3, 8, 4, 66],\n",
              " [3, 1, 8, 4, 66],\n",
              " [1, 8, 4, 66],\n",
              " [1, 8, 4, 2, 66],\n",
              " [8, 4, 66],\n",
              " [8, 4, 2, 66],\n",
              " [8, 4, 9, 66],\n",
              " [3, 8, 4, 17, 22],\n",
              " [3, 1, 8, 4, 17, 22],\n",
              " [3, 1, 8, 4, 2, 17, 22],\n",
              " [1, 8, 4, 17, 22],\n",
              " [1, 8, 4, 2, 17, 22],\n",
              " [8, 4, 17, 22],\n",
              " [8, 4, 2, 17, 22],\n",
              " [8, 4, 9, 17, 22],\n",
              " [3, 8, 4, 67],\n",
              " [3, 1, 8, 4, 67],\n",
              " [1, 8, 4, 67],\n",
              " [1, 8, 4, 2, 67],\n",
              " [8, 4, 67],\n",
              " [8, 4, 2, 67],\n",
              " [8, 4, 9, 67],\n",
              " [3, 8, 4, 17, 27],\n",
              " [3, 1, 8, 4, 17, 27],\n",
              " [3, 1, 8, 4, 2, 17, 27],\n",
              " [1, 8, 4, 17, 27],\n",
              " [1, 8, 4, 2, 17, 27],\n",
              " [8, 4, 17, 27],\n",
              " [8, 4, 2, 17, 27],\n",
              " [8, 4, 9, 17, 27],\n",
              " [3, 8, 4, 68],\n",
              " [3, 1, 8, 4, 68],\n",
              " [1, 8, 4, 68],\n",
              " [1, 8, 4, 2, 68],\n",
              " [8, 4, 68],\n",
              " [8, 4, 2, 68],\n",
              " [8, 4, 9, 68],\n",
              " [3, 8, 4, 17, 19],\n",
              " [3, 1, 8, 4, 17, 19],\n",
              " [3, 1, 8, 4, 2, 17, 19],\n",
              " [1, 8, 4, 17, 19],\n",
              " [1, 8, 4, 2, 17, 19],\n",
              " [8, 4, 17, 19],\n",
              " [8, 4, 2, 17, 19],\n",
              " [8, 4, 9, 17, 19],\n",
              " [3, 8, 4, 69],\n",
              " [3, 1, 8, 4, 69],\n",
              " [1, 8, 4, 69],\n",
              " [1, 8, 4, 2, 69],\n",
              " [8, 4, 69],\n",
              " [8, 4, 2, 69],\n",
              " [8, 4, 9, 69],\n",
              " [3, 8, 4, 35],\n",
              " [3, 1, 8, 4, 35],\n",
              " [3, 1, 8, 4, 2, 35],\n",
              " [1, 8, 4, 35],\n",
              " [1, 8, 4, 9, 35],\n",
              " [1, 8, 4, 2, 35],\n",
              " [8, 4, 35],\n",
              " [8, 4, 2, 35],\n",
              " [8, 4, 9, 35],\n",
              " [3, 8, 4, 32, 28, 27],\n",
              " [3, 1, 8, 4, 32, 28, 27],\n",
              " [3, 1, 8, 4, 2, 32, 28, 27],\n",
              " [1, 8, 4, 32, 28, 27],\n",
              " [1, 8, 4, 2, 32, 28, 27],\n",
              " [8, 4, 32, 28, 27],\n",
              " [8, 4, 2, 32, 28, 27],\n",
              " [8, 4, 9, 32, 28, 27],\n",
              " [3, 8, 4, 53],\n",
              " [3, 1, 8, 4, 53],\n",
              " [1, 8, 4, 53],\n",
              " [1, 8, 4, 2, 53],\n",
              " [8, 4, 53],\n",
              " [8, 4, 2, 53],\n",
              " [8, 4, 9, 53],\n",
              " [3, 8, 4, 32, 28, 12],\n",
              " [3, 1, 8, 4, 32, 28, 12],\n",
              " [3, 1, 8, 4, 2, 32, 28, 12],\n",
              " [1, 8, 4, 32, 28, 12],\n",
              " [1, 8, 4, 2, 32, 28, 12],\n",
              " [8, 4, 32, 28, 12],\n",
              " [8, 4, 2, 32, 28, 12],\n",
              " [8, 4, 9, 32, 28, 12],\n",
              " [3, 8, 4, 52],\n",
              " [3, 1, 8, 4, 52],\n",
              " [1, 8, 4, 52],\n",
              " [1, 8, 4, 2, 52],\n",
              " [8, 4, 52],\n",
              " [8, 4, 2, 52],\n",
              " [8, 4, 9, 52],\n",
              " [3, 8, 4, 34],\n",
              " [3, 1, 8, 4, 34],\n",
              " [3, 1, 8, 4, 2, 34],\n",
              " [1, 8, 4, 34],\n",
              " [1, 8, 4, 9, 34],\n",
              " [1, 8, 4, 2, 34],\n",
              " [8, 4, 34],\n",
              " [8, 4, 2, 34],\n",
              " [8, 4, 9, 34],\n",
              " [3, 8, 4, 16, 12],\n",
              " [3, 1, 8, 4, 16, 12],\n",
              " [3, 1, 8, 4, 2, 16, 12],\n",
              " [1, 8, 4, 16, 12],\n",
              " [1, 8, 4, 2, 16, 12],\n",
              " [8, 4, 16, 12],\n",
              " [8, 4, 2, 16, 12],\n",
              " [8, 4, 9, 16, 12],\n",
              " [3, 8, 4, 70],\n",
              " [3, 1, 8, 4, 70],\n",
              " [1, 8, 4, 70],\n",
              " [1, 8, 4, 2, 70],\n",
              " [8, 4, 70],\n",
              " [8, 4, 2, 70],\n",
              " [8, 4, 9, 70],\n",
              " [3, 8, 4, 16, 23],\n",
              " [3, 1, 8, 4, 16, 23],\n",
              " [3, 1, 8, 4, 2, 16, 23],\n",
              " [1, 8, 4, 16, 23],\n",
              " [1, 8, 4, 2, 16, 23],\n",
              " [8, 4, 16, 23],\n",
              " [8, 4, 2, 16, 23],\n",
              " [8, 4, 9, 16, 23],\n",
              " [3, 8, 4, 71],\n",
              " [3, 1, 8, 4, 71],\n",
              " [1, 8, 4, 71],\n",
              " [1, 8, 4, 2, 71],\n",
              " [8, 4, 71],\n",
              " [8, 4, 2, 71],\n",
              " [8, 4, 9, 71],\n",
              " [3, 8, 4, 16, 19],\n",
              " [3, 1, 8, 4, 16, 19],\n",
              " [3, 1, 8, 4, 2, 16, 19],\n",
              " [1, 8, 4, 16, 19],\n",
              " [1, 8, 4, 2, 16, 19],\n",
              " [8, 4, 16, 19],\n",
              " [8, 4, 2, 16, 19],\n",
              " [8, 4, 9, 16, 19],\n",
              " [3, 8, 4, 72],\n",
              " [3, 1, 8, 4, 72],\n",
              " [1, 8, 4, 72],\n",
              " [1, 8, 4, 2, 72],\n",
              " [8, 4, 72],\n",
              " [8, 4, 2, 72],\n",
              " [8, 4, 9, 72],\n",
              " [3, 8, 4, 16, 28],\n",
              " [3, 1, 8, 4, 16, 28],\n",
              " [3, 1, 8, 4, 2, 16, 28],\n",
              " [1, 8, 4, 16, 28],\n",
              " [1, 8, 4, 2, 16, 28],\n",
              " [8, 4, 16, 28],\n",
              " [8, 4, 2, 16, 28],\n",
              " [8, 4, 9, 16, 28],\n",
              " [3, 8, 4, 73],\n",
              " [3, 1, 8, 4, 73],\n",
              " [1, 8, 4, 73],\n",
              " [1, 8, 4, 2, 73],\n",
              " [8, 4, 73],\n",
              " [8, 4, 2, 73],\n",
              " [8, 4, 9, 73],\n",
              " [3, 8, 4, 16, 22],\n",
              " [3, 1, 8, 4, 16, 22],\n",
              " [3, 1, 8, 4, 2, 16, 22],\n",
              " [1, 8, 4, 16, 22],\n",
              " [1, 8, 4, 2, 16, 22],\n",
              " [8, 4, 16, 22],\n",
              " [8, 4, 2, 16, 22],\n",
              " [8, 4, 9, 16, 22],\n",
              " [3, 8, 4, 74],\n",
              " [3, 1, 8, 4, 74],\n",
              " [1, 8, 4, 74],\n",
              " [1, 8, 4, 2, 74],\n",
              " [8, 4, 74],\n",
              " [8, 4, 2, 74],\n",
              " [8, 4, 9, 74],\n",
              " [3, 8, 4, 30],\n",
              " [3, 1, 8, 4, 30],\n",
              " [3, 1, 8, 4, 2, 30],\n",
              " [1, 8, 4, 30],\n",
              " [1, 8, 4, 9, 30],\n",
              " [1, 8, 4, 2, 30],\n",
              " [8, 4, 30],\n",
              " [8, 4, 2, 30],\n",
              " [8, 4, 9, 30],\n",
              " [3, 8, 4, 30, 19],\n",
              " [3, 1, 8, 4, 30, 19],\n",
              " [3, 1, 8, 4, 2, 30, 19],\n",
              " [1, 8, 4, 30, 19],\n",
              " [1, 8, 4, 2, 30, 19],\n",
              " [8, 4, 30, 19],\n",
              " [8, 4, 2, 30, 19],\n",
              " [8, 4, 9, 30, 19],\n",
              " [3, 8, 4, 75],\n",
              " [3, 1, 8, 4, 75],\n",
              " [1, 8, 4, 75],\n",
              " [1, 8, 4, 2, 75],\n",
              " [8, 4, 75],\n",
              " [8, 4, 2, 75],\n",
              " [8, 4, 9, 75],\n",
              " [3, 8, 4, 29],\n",
              " [3, 1, 8, 4, 29],\n",
              " [3, 1, 8, 4, 2, 29],\n",
              " [1, 8, 4, 29],\n",
              " [1, 8, 4, 9, 29],\n",
              " [1, 8, 4, 2, 29],\n",
              " [8, 4, 29],\n",
              " [8, 4, 2, 29],\n",
              " [8, 4, 9, 29],\n",
              " [3, 8, 4, 29, 12],\n",
              " [3, 1, 8, 4, 29, 12],\n",
              " [3, 1, 8, 4, 2, 29, 12],\n",
              " [1, 8, 4, 29, 12],\n",
              " [1, 8, 4, 9, 29, 12],\n",
              " [1, 8, 4, 2, 29, 12],\n",
              " [8, 4, 29, 12],\n",
              " [8, 4, 2, 29, 12],\n",
              " [8, 4, 9, 29, 12],\n",
              " [3, 8, 4, 29, 77, 23],\n",
              " [3, 1, 8, 4, 29, 77, 23],\n",
              " [3, 1, 8, 4, 2, 29, 77, 23],\n",
              " [1, 8, 4, 29, 77, 23],\n",
              " [1, 8, 4, 9, 29, 77, 23],\n",
              " [1, 8, 4, 2, 29, 77, 23],\n",
              " [8, 4, 29, 77, 23],\n",
              " [8, 4, 2, 29, 77, 23],\n",
              " [8, 4, 9, 29, 77, 23],\n",
              " [3, 8, 4, 29, 22],\n",
              " [3, 1, 8, 4, 29, 22],\n",
              " [3, 1, 8, 4, 2, 29, 22],\n",
              " [1, 8, 4, 29, 22],\n",
              " [1, 8, 4, 9, 29, 22],\n",
              " [1, 8, 4, 2, 29, 22],\n",
              " [8, 4, 29, 22],\n",
              " [8, 4, 2, 29, 22],\n",
              " [8, 4, 9, 29, 22],\n",
              " [3, 8, 4, 29, 23],\n",
              " [3, 1, 8, 4, 29, 23],\n",
              " [3, 1, 8, 4, 2, 29, 23],\n",
              " [1, 8, 4, 29, 23],\n",
              " [1, 8, 4, 9, 29, 23],\n",
              " [1, 8, 4, 2, 29, 23],\n",
              " [8, 4, 29, 23],\n",
              " [8, 4, 2, 29, 23],\n",
              " [8, 4, 9, 29, 23],\n",
              " [20, 4, 41],\n",
              " [20, 4, 5, 41],\n",
              " [20, 4, 2, 41],\n",
              " [20, 4, 5, 2, 41],\n",
              " [3, 1, 20, 4, 41],\n",
              " [3, 1, 20, 4, 2, 41],\n",
              " [1, 20, 4, 5, 41],\n",
              " [1, 20, 4, 5, 2, 41],\n",
              " [20, 4, 24, 19],\n",
              " [20, 4, 5, 24, 19],\n",
              " [20, 4, 2, 24, 19],\n",
              " [20, 4, 5, 2, 24, 19],\n",
              " [3, 1, 20, 4, 24, 19],\n",
              " [3, 1, 20, 4, 2, 24, 19],\n",
              " [1, 20, 4, 5, 24, 19],\n",
              " [1, 20, 4, 5, 2, 24, 19],\n",
              " [20, 4, 24, 12],\n",
              " [20, 4, 5, 24, 12],\n",
              " [20, 4, 2, 24, 12],\n",
              " [20, 4, 5, 2, 24, 12],\n",
              " [3, 1, 20, 4, 24, 12],\n",
              " [3, 1, 20, 4, 2, 24, 12],\n",
              " [1, 20, 4, 5, 24, 12],\n",
              " [1, 20, 4, 5, 2, 24, 12],\n",
              " [20, 4, 31],\n",
              " [20, 4, 5, 31],\n",
              " [20, 4, 2, 31],\n",
              " [20, 4, 5, 2, 31],\n",
              " [3, 1, 20, 4, 31],\n",
              " [3, 1, 20, 4, 2, 31],\n",
              " [1, 20, 4, 5, 31],\n",
              " [1, 20, 4, 5, 2, 31],\n",
              " [20, 4, 46, 31],\n",
              " [20, 4, 5, 46, 31],\n",
              " [20, 4, 2, 46, 31],\n",
              " [20, 4, 5, 2, 46, 31],\n",
              " [3, 1, 20, 4, 46, 31],\n",
              " [3, 1, 20, 4, 2, 46, 31],\n",
              " [1, 20, 4, 5, 46, 31],\n",
              " [1, 20, 4, 5, 2, 46, 31],\n",
              " [20, 4, 42],\n",
              " [20, 4, 5, 42],\n",
              " [20, 4, 2, 42],\n",
              " [20, 4, 5, 2, 42],\n",
              " [3, 1, 20, 4, 42],\n",
              " [3, 1, 20, 4, 2, 42],\n",
              " [1, 20, 4, 5, 42],\n",
              " [1, 20, 4, 5, 2, 42],\n",
              " [20, 4, 24, 22],\n",
              " [20, 4, 5, 24, 22],\n",
              " [20, 4, 2, 24, 22],\n",
              " [20, 4, 5, 2, 24, 22],\n",
              " [3, 1, 20, 4, 24, 22],\n",
              " [3, 1, 20, 4, 2, 24, 22],\n",
              " [1, 20, 4, 5, 24, 22],\n",
              " [1, 20, 4, 5, 2, 24, 22],\n",
              " [20, 4, 36, 37],\n",
              " [20, 4, 5, 36, 37],\n",
              " [20, 4, 2, 36, 37],\n",
              " [20, 4, 5, 2, 36, 37],\n",
              " [3, 1, 20, 4, 36, 37],\n",
              " [3, 1, 20, 4, 2, 36, 37],\n",
              " [1, 20, 4, 5, 36, 37],\n",
              " [1, 20, 4, 5, 2, 36, 37],\n",
              " [20, 4, 38],\n",
              " [20, 4, 5, 38],\n",
              " [20, 4, 2, 38],\n",
              " [20, 4, 5, 2, 38],\n",
              " [3, 1, 20, 4, 38],\n",
              " [3, 1, 20, 4, 2, 38],\n",
              " [1, 20, 4, 5, 38],\n",
              " [1, 20, 4, 5, 2, 38],\n",
              " [20, 4, 39],\n",
              " [20, 4, 5, 39],\n",
              " [20, 4, 2, 39],\n",
              " [20, 4, 5, 2, 39],\n",
              " [3, 1, 20, 4, 39],\n",
              " [3, 1, 20, 4, 2, 39],\n",
              " [1, 20, 4, 5, 39],\n",
              " [1, 20, 4, 5, 2, 39],\n",
              " [20, 4, 33],\n",
              " [20, 4, 5, 33],\n",
              " [20, 4, 2, 33],\n",
              " [20, 4, 5, 2, 33],\n",
              " [3, 1, 20, 4, 33],\n",
              " [3, 1, 20, 4, 2, 33],\n",
              " [1, 20, 4, 5, 33],\n",
              " [1, 20, 4, 5, 2, 33],\n",
              " [20, 4, 40],\n",
              " [20, 4, 5, 40],\n",
              " [20, 4, 2, 40],\n",
              " [20, 4, 5, 2, 40],\n",
              " [3, 1, 20, 4, 40],\n",
              " [3, 1, 20, 4, 2, 40],\n",
              " [1, 20, 4, 5, 40],\n",
              " [1, 20, 4, 5, 2, 40],\n",
              " [20, 4, 25, 12],\n",
              " [20, 4, 5, 25, 12],\n",
              " [20, 4, 2, 25, 12],\n",
              " [20, 4, 5, 2, 25, 12],\n",
              " [3, 1, 20, 4, 25, 12],\n",
              " [3, 1, 20, 4, 2, 25, 12],\n",
              " [1, 20, 4, 5, 25, 12],\n",
              " [1, 20, 4, 5, 2, 25, 12],\n",
              " [20, 4, 25, 23],\n",
              " [20, 4, 5, 25, 23],\n",
              " [20, 4, 2, 25, 23],\n",
              " [20, 4, 5, 2, 25, 23],\n",
              " [3, 1, 20, 4, 25, 23],\n",
              " [3, 1, 20, 4, 2, 25, 23],\n",
              " [1, 20, 4, 5, 25, 23],\n",
              " [1, 20, 4, 5, 2, 25, 23],\n",
              " [20, 4, 43],\n",
              " [20, 4, 5, 43],\n",
              " [20, 4, 2, 43],\n",
              " [20, 4, 5, 2, 43],\n",
              " [3, 1, 20, 4, 43],\n",
              " ...]"
            ]
          },
          "metadata": {},
          "execution_count": 13
        }
      ],
      "source": [
        "# Tokenisasi data\n",
        "tokenizer = Tokenizer(num_words=2000)\n",
        "tokenizer.fit_on_texts(data['patterns'])\n",
        "train = tokenizer.texts_to_sequences(data['patterns'])\n",
        "train"
      ]
    },
    {
      "cell_type": "code",
      "execution_count": null,
      "metadata": {
        "colab": {
          "base_uri": "https://localhost:8080/"
        },
        "id": "jb8y-r23fyKI",
        "outputId": "13f38836-d7fd-4bee-9704-a3d8581df28b"
      },
      "outputs": [
        {
          "output_type": "stream",
          "name": "stdout",
          "text": [
            "[[ 0  0  0 ...  0  0 80]\n",
            " [ 0  0  0 ...  0  0 81]\n",
            " [ 0  0  0 ...  0  0 82]\n",
            " ...\n",
            " [ 0  0  0 ...  7 30 19]\n",
            " [ 0  0  0 ...  7 30 19]\n",
            " [ 0  0  0 ...  7 30 19]]\n"
          ]
        }
      ],
      "source": [
        "# Menerapkan proses dari padding\n",
        "x_train = pad_sequences(train)\n",
        "print(x_train)"
      ]
    },
    {
      "cell_type": "code",
      "execution_count": null,
      "metadata": {
        "colab": {
          "base_uri": "https://localhost:8080/"
        },
        "id": "E9CiI587gQ7D",
        "outputId": "fb3342cf-971e-4cc6-a2c6-34de394c333b"
      },
      "outputs": [
        {
          "output_type": "stream",
          "name": "stdout",
          "text": [
            "[102 102 102 ... 263 263 263]\n"
          ]
        }
      ],
      "source": [
        "# Encoding the outputs \n",
        "le = LabelEncoder()\n",
        "y_train = le.fit_transform(data['tags'])\n",
        "print(y_train) #Label Encodings"
      ]
    },
    {
      "cell_type": "code",
      "execution_count": null,
      "metadata": {
        "colab": {
          "base_uri": "https://localhost:8080/"
        },
        "id": "HaLPZyk2g8ZL",
        "outputId": "7f0071d1-4120-4419-c7ca-cc2c93eff887"
      },
      "outputs": [
        {
          "output_type": "stream",
          "name": "stdout",
          "text": [
            "10\n"
          ]
        }
      ],
      "source": [
        "# input length\n",
        "input_shape = x_train.shape[1]\n",
        "print(input_shape)"
      ]
    },
    {
      "cell_type": "code",
      "source": [
        "# labels length\n",
        "input_shape1 = y_train.shape\n",
        "print(input_shape1)"
      ],
      "metadata": {
        "colab": {
          "base_uri": "https://localhost:8080/"
        },
        "id": "mfdigE4hYPPL",
        "outputId": "0a445cb3-266b-4455-fedb-41efdb505d15"
      },
      "execution_count": null,
      "outputs": [
        {
          "output_type": "stream",
          "name": "stdout",
          "text": [
            "(3093,)\n"
          ]
        }
      ]
    },
    {
      "cell_type": "code",
      "execution_count": null,
      "metadata": {
        "colab": {
          "base_uri": "https://localhost:8080/"
        },
        "id": "O9VgEJ0ShATK",
        "outputId": "625d6a45-9bb4-4ebd-a7ea-69ae8f6b952c"
      },
      "outputs": [
        {
          "output_type": "stream",
          "name": "stdout",
          "text": [
            "Jumlah kata unik :  123\n",
            "output length:  278\n"
          ]
        }
      ],
      "source": [
        "# Mendefine vocabulary\n",
        "vocabulary = len(tokenizer.word_index)\n",
        "print(\"Jumlah kata unik : \", vocabulary)\n",
        "\n",
        "# output length\n",
        "output_length = le.classes_.shape[0]\n",
        "print(\"output length: \", output_length)"
      ]
    },
    {
      "cell_type": "markdown",
      "metadata": {
        "id": "VaSKDUMlkCWT"
      },
      "source": [
        "# **Menyimpan model words dan labels**"
      ]
    },
    {
      "cell_type": "code",
      "execution_count": null,
      "metadata": {
        "id": "IfgEXG--Z7P9"
      },
      "outputs": [],
      "source": [
        "pickle.dump(words,open('/content/words.pkl','wb'))\n",
        "pickle.dump(classes,open('/content/labels.pkl','wb'))"
      ]
    },
    {
      "cell_type": "markdown",
      "metadata": {
        "id": "TfkzztHCkxoy"
      },
      "source": [
        "# **Menyimpan label Encoder dan Tokenizer**"
      ]
    },
    {
      "cell_type": "code",
      "execution_count": null,
      "metadata": {
        "id": "6W42E9FWhWod"
      },
      "outputs": [],
      "source": [
        "pickle.dump(le, open('/content/le.pkl','wb'))\n",
        "pickle.dump(tokenizer, open('/content/tokenizers.pkl','wb'))"
      ]
    },
    {
      "cell_type": "markdown",
      "metadata": {
        "id": "z0HOl9kxmsJT"
      },
      "source": [
        "# ***Modelling***\n",
        "\n",
        "Reference :\n",
        "1. [Dropout layers](https://towardsdatascience.com/dropout-in-neural-networks-47a162d621d9)\n",
        "2. [Early stopping - code](https://keras.io/api/callbacks/early_stopping/)\n",
        "3. [Early stopping - explain](https://towardsdatascience.com/a-practical-introduction-to-early-stopping-in-machine-learning-550ac88bc8fd) & [Early stopping - explain 2](https://machinelearningmastery.com/dropout-regularization-deep-learning-models-keras/)\n",
        "\n"
      ]
    },
    {
      "cell_type": "code",
      "execution_count": null,
      "metadata": {
        "id": "NTh3D6G7oB6p"
      },
      "outputs": [],
      "source": [
        "# creating our training data:\n",
        "training_data = []\n",
        "# creating an empty array for our output (with size same as length of labels):\n",
        "output = [0]*len(classes)\n",
        "for doc in documents:\n",
        "    bag_of_words = []\n",
        "    pattern_words = doc[0]\n",
        "    #lemmatize pattern words:\n",
        "    pattern_words = [lemmatizer.lemmatize(word.lower()) for word in pattern_words]\n",
        "    \n",
        "    for w in words:\n",
        "        if w in pattern_words:\n",
        "            bag_of_words.append(1)\n",
        "        else:\n",
        "            bag_of_words.append(0)\n",
        "            \n",
        "    output_row = list(output)\n",
        "    output_row[classes.index(doc[1])] = 1\n",
        "    \n",
        "    training_data.append([bag_of_words,output_row])"
      ]
    },
    {
      "cell_type": "code",
      "execution_count": null,
      "metadata": {
        "colab": {
          "base_uri": "https://localhost:8080/"
        },
        "id": "qJQOtziCAMyR",
        "outputId": "75894b69-8312-4fff-eed5-994c69b205b6"
      },
      "outputs": [
        {
          "output_type": "stream",
          "name": "stderr",
          "text": [
            "/usr/local/lib/python3.7/dist-packages/ipykernel_launcher.py:3: VisibleDeprecationWarning: Creating an ndarray from ragged nested sequences (which is a list-or-tuple of lists-or-tuples-or ndarrays with different lengths or shapes) is deprecated. If you meant to do this, you must specify 'dtype=object' when creating the ndarray.\n",
            "  This is separate from the ipykernel package so we can avoid doing imports until\n"
          ]
        }
      ],
      "source": [
        "# convert training_data to numpy array and shuffle the data:\n",
        "random.shuffle(training_data)\n",
        "training_data = np.array(training_data)"
      ]
    },
    {
      "cell_type": "code",
      "execution_count": null,
      "metadata": {
        "id": "p0P2vvXeAQUB"
      },
      "outputs": [],
      "source": [
        "# Now we have to create training list:\n",
        "x_train = list(training_data[:,0])\n",
        "y_train = list(training_data[:,1])"
      ]
    },
    {
      "cell_type": "code",
      "source": [
        "len(y_train[1])"
      ],
      "metadata": {
        "colab": {
          "base_uri": "https://localhost:8080/"
        },
        "id": "6Tv55o4OckjM",
        "outputId": "ea149c1a-dbf8-4c96-bb2d-3703f07698bc"
      },
      "execution_count": null,
      "outputs": [
        {
          "output_type": "execute_result",
          "data": {
            "text/plain": [
              "278"
            ]
          },
          "metadata": {},
          "execution_count": 24
        }
      ]
    },
    {
      "cell_type": "code",
      "source": [
        "len(y_train)"
      ],
      "metadata": {
        "colab": {
          "base_uri": "https://localhost:8080/"
        },
        "id": "qJjjyVkTWzSA",
        "outputId": "368dba94-f56f-46e9-b1a5-68b7168c105d"
      },
      "execution_count": null,
      "outputs": [
        {
          "output_type": "execute_result",
          "data": {
            "text/plain": [
              "36555"
            ]
          },
          "metadata": {},
          "execution_count": 25
        }
      ]
    },
    {
      "cell_type": "code",
      "source": [
        "len(x_train)"
      ],
      "metadata": {
        "colab": {
          "base_uri": "https://localhost:8080/"
        },
        "id": "Q4cUnv1ScZ-Y",
        "outputId": "a9096042-da66-4e00-bbad-2e865147044c"
      },
      "execution_count": null,
      "outputs": [
        {
          "output_type": "execute_result",
          "data": {
            "text/plain": [
              "36555"
            ]
          },
          "metadata": {},
          "execution_count": 26
        }
      ]
    },
    {
      "cell_type": "code",
      "execution_count": null,
      "metadata": {
        "id": "pp9eZWEFs0nM"
      },
      "outputs": [],
      "source": [
        "# fungsinya digunakan untuk menghentikan training jika nilai akurasi yang diinginkan telah tercapai.\n",
        "class myCallback(tf.keras.callbacks.Callback) :\n",
        "  def on_epoch_end(self,epoch, logs={}):\n",
        "    if(logs.get('accuracy') >= 0.97):\n",
        "      print('\\nReached 95% accuracy so canceling the training !')\n",
        "      self.model.stop_training = True\n",
        "\n",
        "callbacks = myCallback()"
      ]
    },
    {
      "cell_type": "code",
      "execution_count": null,
      "metadata": {
        "id": "-6DgE67oATp5"
      },
      "outputs": [],
      "source": [
        "# Creating Model same with reference code\n",
        "\n",
        "model = Sequential()\n",
        "model.add(Dense(512, input_shape=(len(x_train[0]),), activation='relu'))\n",
        "model.add(Dropout(0.2)) \n",
        "# model.add(Dense(128, activation='relu'))\n",
        "# model.add(Dropout(0.5))\n",
        "model.add(Dense(64, activation='relu'))\n",
        "model.add(Dropout(0.5))\n",
        "model.add(Dense(len(y_train[0]), activation='softmax'))"
      ]
    },
    {
      "cell_type": "code",
      "execution_count": null,
      "metadata": {
        "id": "x4EoGHhURHE5"
      },
      "outputs": [],
      "source": [
        "# # Model with early stopping \n",
        "# # create Early stopping --> https://keras.io/api/callbacks/early_stopping/\n",
        "# from tensorflow.keras.callbacks import EarlyStopping\n",
        "# early_stopping = EarlyStopping() # If want to change parameters, open the link above \n",
        "\n",
        "# # Creating Model:\n",
        "\n",
        "# model = Sequential()\n",
        "# model.add(Dense(512, input_shape=(len(x_train[0]),), activation='relu'))\n",
        "# model.add(Dropout(0.5))\n",
        "# model.add(Dense(256, activation='relu'))\n",
        "# model.add(Dropout(0.5))\n",
        "# model.add(Dense(len(y_train[0]), activation='softmax'))"
      ]
    },
    {
      "cell_type": "code",
      "execution_count": null,
      "metadata": {
        "colab": {
          "base_uri": "https://localhost:8080/"
        },
        "id": "PDy4vMQ9QRHU",
        "outputId": "4e6af49d-4838-4bc1-fde8-bc9ad61d0788"
      },
      "outputs": [
        {
          "output_type": "stream",
          "name": "stdout",
          "text": [
            "Model: \"sequential\"\n",
            "_________________________________________________________________\n",
            " Layer (type)                Output Shape              Param #   \n",
            "=================================================================\n",
            " dense (Dense)               (None, 512)               63488     \n",
            "                                                                 \n",
            " dropout (Dropout)           (None, 512)               0         \n",
            "                                                                 \n",
            " dense_1 (Dense)             (None, 64)                32832     \n",
            "                                                                 \n",
            " dropout_1 (Dropout)         (None, 64)                0         \n",
            "                                                                 \n",
            " dense_2 (Dense)             (None, 278)               18070     \n",
            "                                                                 \n",
            "=================================================================\n",
            "Total params: 114,390\n",
            "Trainable params: 114,390\n",
            "Non-trainable params: 0\n",
            "_________________________________________________________________\n"
          ]
        }
      ],
      "source": [
        "model.summary()"
      ]
    },
    {
      "cell_type": "code",
      "execution_count": null,
      "metadata": {
        "colab": {
          "base_uri": "https://localhost:8080/"
        },
        "id": "ePIwReNrATud",
        "outputId": "682fb758-67b3-40fd-a257-33b0e043b5c6"
      },
      "outputs": [
        {
          "output_type": "stream",
          "name": "stderr",
          "text": [
            "/usr/local/lib/python3.7/dist-packages/keras/optimizers/optimizer_v2/gradient_descent.py:108: UserWarning: The `lr` argument is deprecated, use `learning_rate` instead.\n",
            "  super(SGD, self).__init__(name, **kwargs)\n"
          ]
        }
      ],
      "source": [
        "sgd_optimizer = SGD(lr=0.01, decay=1e-6, momentum=0.8, nesterov=True)\n",
        "model.compile(loss='categorical_crossentropy', optimizer=sgd_optimizer, metrics=['accuracy']) #using a Stochastic gradient descent(sgd) optimizer with Nesterov accelerated gradient."
      ]
    },
    {
      "cell_type": "code",
      "execution_count": null,
      "metadata": {
        "id": "TNQV2_XvA3u6"
      },
      "outputs": [],
      "source": [
        "# # fit the model --> using earlystoping, \n",
        "# history = model.fit(np.array(x_train),\n",
        "#                     np.array(y_train),\n",
        "#                     epochs=100,\n",
        "#                     batch_size=8,\n",
        "#                     validation_split=0.3,\n",
        "#                     verbose=1,\n",
        "#                     callbacks=[early_stopping])"
      ]
    },
    {
      "cell_type": "code",
      "execution_count": null,
      "metadata": {
        "colab": {
          "base_uri": "https://localhost:8080/"
        },
        "id": "opTB5CqmteVB",
        "outputId": "628d187f-c50a-4522-9bcd-dc0764dbf500"
      },
      "outputs": [
        {
          "output_type": "stream",
          "name": "stdout",
          "text": [
            "Epoch 1/300\n",
            "5118/5118 [==============================] - 15s 3ms/step - loss: 3.2566 - accuracy: 0.2910 - val_loss: 0.4098 - val_accuracy: 0.9364\n",
            "Epoch 2/300\n",
            "5118/5118 [==============================] - 14s 3ms/step - loss: 0.6941 - accuracy: 0.7935 - val_loss: 0.0313 - val_accuracy: 0.9949\n",
            "Epoch 3/300\n",
            "5118/5118 [==============================] - 15s 3ms/step - loss: 0.3715 - accuracy: 0.8846 - val_loss: 0.0100 - val_accuracy: 0.9964\n",
            "Epoch 4/300\n",
            "5118/5118 [==============================] - 15s 3ms/step - loss: 0.2778 - accuracy: 0.9116 - val_loss: 0.0059 - val_accuracy: 0.9983\n",
            "Epoch 5/300\n",
            "5118/5118 [==============================] - 14s 3ms/step - loss: 0.2285 - accuracy: 0.9251 - val_loss: 0.0027 - val_accuracy: 0.9996\n",
            "Epoch 6/300\n",
            "5118/5118 [==============================] - 16s 3ms/step - loss: 0.1995 - accuracy: 0.9346 - val_loss: 0.0025 - val_accuracy: 0.9996\n",
            "Epoch 7/300\n",
            "5118/5118 [==============================] - 14s 3ms/step - loss: 0.1806 - accuracy: 0.9406 - val_loss: 0.0011 - val_accuracy: 0.9999\n",
            "Epoch 8/300\n",
            "5118/5118 [==============================] - 14s 3ms/step - loss: 0.1684 - accuracy: 0.9447 - val_loss: 0.0011 - val_accuracy: 0.9999\n",
            "Epoch 9/300\n",
            "5118/5118 [==============================] - 14s 3ms/step - loss: 0.1549 - accuracy: 0.9484 - val_loss: 7.9335e-04 - val_accuracy: 0.9999\n",
            "Epoch 10/300\n",
            "5118/5118 [==============================] - 16s 3ms/step - loss: 0.1440 - accuracy: 0.9520 - val_loss: 5.5928e-04 - val_accuracy: 0.9999\n",
            "Epoch 11/300\n",
            "5118/5118 [==============================] - 16s 3ms/step - loss: 0.1324 - accuracy: 0.9565 - val_loss: 4.3462e-04 - val_accuracy: 0.9999\n",
            "Epoch 12/300\n",
            "5118/5118 [==============================] - 14s 3ms/step - loss: 0.1253 - accuracy: 0.9578 - val_loss: 3.8206e-04 - val_accuracy: 0.9999\n",
            "Epoch 13/300\n",
            "5118/5118 [==============================] - 14s 3ms/step - loss: 0.1228 - accuracy: 0.9587 - val_loss: 3.4126e-04 - val_accuracy: 0.9999\n",
            "Epoch 14/300\n",
            "5118/5118 [==============================] - 16s 3ms/step - loss: 0.1159 - accuracy: 0.9604 - val_loss: 3.3551e-04 - val_accuracy: 0.9999\n",
            "Epoch 15/300\n",
            "5118/5118 [==============================] - 16s 3ms/step - loss: 0.1159 - accuracy: 0.9616 - val_loss: 2.8335e-04 - val_accuracy: 0.9999\n",
            "Epoch 16/300\n",
            "5118/5118 [==============================] - 14s 3ms/step - loss: 0.1059 - accuracy: 0.9650 - val_loss: 2.0305e-04 - val_accuracy: 0.9999\n",
            "Epoch 17/300\n",
            "5118/5118 [==============================] - 14s 3ms/step - loss: 0.1080 - accuracy: 0.9628 - val_loss: 1.7670e-04 - val_accuracy: 0.9999\n",
            "Epoch 18/300\n",
            "5118/5118 [==============================] - 14s 3ms/step - loss: 0.1000 - accuracy: 0.9669 - val_loss: 1.2430e-04 - val_accuracy: 1.0000\n",
            "Epoch 19/300\n",
            "5118/5118 [==============================] - 16s 3ms/step - loss: 0.0954 - accuracy: 0.9678 - val_loss: 1.3337e-04 - val_accuracy: 1.0000\n",
            "Epoch 20/300\n",
            "5118/5118 [==============================] - 16s 3ms/step - loss: 0.0932 - accuracy: 0.9681 - val_loss: 6.6489e-05 - val_accuracy: 1.0000\n",
            "Epoch 21/300\n",
            "5102/5118 [============================>.] - ETA: 0s - loss: 0.0883 - accuracy: 0.9701\n",
            "Reached 95% accuracy so canceling the training !\n",
            "5118/5118 [==============================] - 14s 3ms/step - loss: 0.0883 - accuracy: 0.9701 - val_loss: 8.3599e-05 - val_accuracy: 1.0000\n"
          ]
        }
      ],
      "source": [
        "history = model.fit(np.array(x_train),\n",
        "                    np.array(y_train),\n",
        "                    epochs=300,\n",
        "                    batch_size=5,\n",
        "                    validation_split=0.3,\n",
        "                    verbose=1,\n",
        "                    callbacks=[callbacks])"
      ]
    },
    {
      "cell_type": "code",
      "execution_count": null,
      "metadata": {
        "id": "M6wdd2UiC_qQ"
      },
      "outputs": [],
      "source": [
        "# Plotting model Accuracy and Loss (Visualisasi Plot Hasil Akurasi dan Loss)\n",
        "# Plot Akurasi\n",
        "plt.figure(figsize=(14, 5))\n",
        "plt.subplot(1, 2, 1)\n",
        "plt.plot(history.history['accuracy'],label='Training Set Accuracy')\n",
        "plt.legend(loc='lower right')\n",
        "plt.title('Accuracy')\n",
        "# Plot Loss\n",
        "plt.subplot(1, 2, 2)\n",
        "plt.plot(history.history['loss'],label='Training Set Loss')\n",
        "plt.legend(loc='upper right')\n",
        "plt.title('Loss')\n",
        "plt.show()"
      ]
    },
    {
      "cell_type": "code",
      "execution_count": null,
      "metadata": {
        "id": "hG89nxrIOxmY"
      },
      "outputs": [],
      "source": [
        "def show_final_history(history):\n",
        "    fig, ax = plt.subplots(1, 2, figsize(15,5))\n",
        "    ax[0].set_titles('LOSS')\n",
        "    ax[0].plot(history.epoch, history.history[\"loss\"], label=\"Train Loss\")\n",
        "    ax[0].plot(history.epoch, history.history[\"val_loss\"], label=\"Validation Loss\")\n",
        "    ax[1].set_title('MAE')\n",
        "    ax[1].plot(history.epoch, history.history[\"mae\"], label=\"Mae\")\n",
        "    ax[1].plot(history.epoch, history.history[\"val_mae\"], label=\"Validation Mae\")\n",
        "    ax[0].legend()\n",
        "    ax[1].legend()\n"
      ]
    },
    {
      "cell_type": "code",
      "execution_count": null,
      "metadata": {
        "id": "iHJ7jsZkPQhX"
      },
      "outputs": [],
      "source": [
        "show_final_history(history)"
      ]
    },
    {
      "cell_type": "code",
      "execution_count": null,
      "metadata": {
        "id": "sa0YS3MRA_qo"
      },
      "outputs": [],
      "source": [
        "# Save the model\n",
        "model.save('model_budi.h5', history)"
      ]
    },
    {
      "cell_type": "markdown",
      "metadata": {
        "id": "UhrKFmvvevHO"
      },
      "source": [
        "# **Testing Chatbot**\n",
        "\n",
        "To testing chatbot can save code below with extention .py and run in local"
      ]
    },
    {
      "cell_type": "code",
      "execution_count": null,
      "metadata": {
        "id": "JjJUGPFheznp"
      },
      "outputs": [],
      "source": [
        "# load model,words list, labels list \n",
        "import nltk\n",
        "from nltk.stem import WordNetLemmatizer\n",
        "lemmatizer = WordNetLemmatizer()\n",
        "import pickle\n",
        "import numpy as np\n",
        "import json\n",
        "import random\n",
        "from keras.models import load_model\n",
        "\n",
        "#model = load_model('model_budi.h5')\n",
        "model = load_model('model_budi.h5')\n",
        "intents = json.loads(open('budi.json').read())\n",
        "words = pickle.load(open('words.pkl','rb'))\n",
        "labels = pickle.load(open('labels.pkl','rb'))"
      ]
    },
    {
      "cell_type": "code",
      "execution_count": null,
      "metadata": {
        "id": "13QvdzQUe4Ly"
      },
      "outputs": [],
      "source": [
        "#  function which will perform text operations and then predict the label\n",
        "def bank_of_words(s,words, show_details=True):\n",
        "    bag_of_words = [0 for _ in range(len(words))]\n",
        "    sent_words = nltk.word_tokenize(s)\n",
        "    sent_words = [lemmatizer.lemmatize(word.lower()) for word in sent_words]\n",
        "    for sent in sent_words:\n",
        "        for i,w in enumerate(words):\n",
        "            if w == sent:\n",
        "                bag_of_words[i] = 1\n",
        "    return np.array(bag_of_words)\n",
        "\n",
        "def predict_label(s, model):\n",
        "    # filtering out predictions\n",
        "    pred = bank_of_words(s, words,show_details=False)\n",
        "    response = model.predict(np.array([pred]))[0]\n",
        "    ERROR_THRESHOLD = 0.25\n",
        "    final_results = [[i,r] for i,r in enumerate(response) if r>ERROR_THRESHOLD]\n",
        "    final_results.sort(key=lambda x: x[1], reverse=True)\n",
        "    return_list = []\n",
        "    for r in final_results:\n",
        "        return_list.append({\"intent\": labels[r[0]], \"probability\": str(r[1])})\n",
        "    return return_list"
      ]
    },
    {
      "cell_type": "code",
      "execution_count": null,
      "metadata": {
        "id": "XXEEU-pzgPok"
      },
      "outputs": [],
      "source": [
        "# function which will give responses from the list of intents\n",
        "def Response(ints, intents_json):\n",
        "    tags = ints[0]['intent']\n",
        "    list_of_intents = intents_json['intents']\n",
        "    for i in list_of_intents:\n",
        "        if(i['tag']== tags):\n",
        "            response = random.choice(i['responses'])\n",
        "            break\n",
        "    return response\n",
        "\n",
        "def chatbot_response(msg):\n",
        "    ints = predict_label(msg, model)\n",
        "    response = Response(ints, intents)\n",
        "    return response"
      ]
    },
    {
      "cell_type": "code",
      "execution_count": null,
      "metadata": {
        "colab": {
          "base_uri": "https://localhost:8080/"
        },
        "id": "AI-6TzQ0gSCh",
        "outputId": "a652a625-551f-40db-ebf8-cf86f1614d0f"
      },
      "outputs": [
        {
          "name": "stdout",
          "output_type": "stream",
          "text": [
            "Start chat with ChatBot of ProjectGurukul\n",
            "You: hi\n",
            "1/1 [==============================] - 0s 91ms/step\n",
            "\n",
            " BOT: Hai! Salam Kenal aku Budi.\n",
            "\n",
            "\n",
            "You: jakarta\n",
            "1/1 [==============================] - 0s 20ms/step\n",
            "\n",
            " BOT: Hello, Lagu Daerah dari daerah Jakarta adalah Kicir-Kicir.\n",
            "\n",
            "\n",
            "You: morning\n",
            "1/1 [==============================] - 0s 20ms/step\n",
            "\n",
            " BOT: Hai! Salam Kenal aku Budi.\n",
            "\n",
            "\n",
            "You: Apa itu Budi?\n",
            "1/1 [==============================] - 0s 18ms/step\n",
            "\n",
            " BOT: Hai! Salam Kenal aku Budi.\n",
            "\n",
            "\n",
            "You: Apa itu Budi\n",
            "1/1 [==============================] - 0s 19ms/step\n",
            "\n",
            " BOT: Hai! Salam Kenal aku Budi.\n",
            "\n",
            "\n",
            "You: Apa itu Budi?\n",
            "1/1 [==============================] - 0s 21ms/step\n",
            "\n",
            " BOT: Hai! Salam Kenal aku Budi.\n",
            "\n",
            "\n",
            "You: Apa Saja Kerajinan asal Aceh?\n",
            "1/1 [==============================] - 0s 20ms/step\n",
            "\n",
            " BOT: Terima kasih yaa telah bertanya....Baiklah akan Budi jawab. Kerajinan asal provinsi Aceh antara lain Kupiah Meuketop, Kupiah Riman, Batik Aceh, Songket Aceh, dan Sulam Kasab.\n",
            "\n",
            "\n",
            "You: Apa Saja Kerajinan asal Aceh?\n",
            "1/1 [==============================] - 0s 18ms/step\n",
            "\n",
            " BOT: Terima kasih yaa telah bertanya....Baiklah akan Budi jawab. Kerajinan asal provinsi Aceh antara lain Kupiah Meuketop, Kupiah Riman, Batik Aceh, Songket Aceh, dan Sulam Kasab.\n",
            "\n",
            "\n",
            "You: Kerajinan Khas Riau?\n",
            "1/1 [==============================] - 0s 19ms/step\n",
            "\n",
            " BOT: Terima kasih yaa telah bertanya....Baiklah akan Budi jawab. Kerajinan asal provinsi Riau yaitu Tenun Lejo Bengkalis, Songket Indragiri, Anyaman Bambu Kampar, Rotan Pekanbaru, dan Kerajinan Tali Strapping Siak.\n",
            "\n",
            "\n",
            "You: Kerajinan Khas Riau?\n",
            "1/1 [==============================] - 0s 20ms/step\n",
            "\n",
            " BOT: Terima kasih yaa telah bertanya....Baiklah akan Budi jawab. Kerajinan asal provinsi Riau yaitu Tenun Lejo Bengkalis, Songket Indragiri, Anyaman Bambu Kampar, Rotan Pekanbaru, dan Kerajinan Tali Strapping Siak.\n",
            "\n",
            "\n",
            "You: makasih\n",
            "1/1 [==============================] - 0s 18ms/step\n",
            "\n",
            " BOT: Dengan senang hati:)\n",
            "\n",
            "\n",
            "You: dah\n",
            "1/1 [==============================] - 0s 20ms/step\n",
            "\n",
            " BOT: Dadahh!\n",
            "\n",
            "\n",
            "You: quit\n"
          ]
        }
      ],
      "source": [
        "def chat():\n",
        "    print(\"Start chat with ChatBot of ProjectGurukul\")\n",
        "    while True:\n",
        "        inp = input(\"You: \")\n",
        "        if inp.lower() == 'quit':\n",
        "            break\n",
        "        response = chatbot_response(inp)\n",
        "        print(\"\\n BOT: \" + response + '\\n\\n')\n",
        "\n",
        "chat()"
      ]
    }
  ],
  "metadata": {
    "colab": {
      "provenance": [],
      "include_colab_link": true
    },
    "gpuClass": "standard",
    "kernelspec": {
      "display_name": "Python 3",
      "name": "python3"
    },
    "language_info": {
      "name": "python"
    }
  },
  "nbformat": 4,
  "nbformat_minor": 0
}