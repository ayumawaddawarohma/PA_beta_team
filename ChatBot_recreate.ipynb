{
  "cells": [
    {
      "cell_type": "markdown",
      "metadata": {
        "id": "view-in-github",
        "colab_type": "text"
      },
      "source": [
        "<a href=\"https://colab.research.google.com/github/ayumawaddawarohma/ML_exercise/blob/main/ChatBot_recreate.ipynb\" target=\"_parent\"><img src=\"https://colab.research.google.com/assets/colab-badge.svg\" alt=\"Open In Colab\"/></a>"
      ]
    },
    {
      "cell_type": "code",
      "execution_count": null,
      "id": "north-relations",
      "metadata": {
        "id": "north-relations"
      },
      "outputs": [],
      "source": [
        "import nltk\n",
        "from nltk.stem import WordNetLemmatizer\n",
        "lemmatizer = WordNetLemmatizer()\n",
        "import json\n",
        "import pickle\n",
        "import tensorflow"
      ]
    },
    {
      "cell_type": "code",
      "execution_count": null,
      "id": "planned-polymer",
      "metadata": {
        "id": "planned-polymer"
      },
      "outputs": [],
      "source": [
        "import numpy as np\n",
        "from tensorflow.keras.models import Sequential\n",
        "from tensorflow.keras.layers import Dense, Dropout , Activation, Flatten , Conv2D, MaxPooling2D\n",
        "from tensorflow.keras.optimizers import SGD\n",
        "import random"
      ]
    },
    {
      "cell_type": "code",
      "source": [
        "# Package sentence tokenizer\n",
        "nltk.download('punkt') \n",
        "# Package lemmatization\n",
        "nltk.download('wordnet')\n",
        "# Package multilingual wordnet data\n",
        "nltk.download('omw-1.4')"
      ],
      "metadata": {
        "colab": {
          "base_uri": "https://localhost:8080/"
        },
        "id": "WHJRssTjTrKR",
        "outputId": "3c9533a7-d0a7-4958-8f3e-2f01fb183d24"
      },
      "id": "WHJRssTjTrKR",
      "execution_count": null,
      "outputs": [
        {
          "output_type": "stream",
          "name": "stderr",
          "text": [
            "[nltk_data] Downloading package punkt to /root/nltk_data...\n",
            "[nltk_data]   Unzipping tokenizers/punkt.zip.\n",
            "[nltk_data] Downloading package wordnet to /root/nltk_data...\n",
            "[nltk_data] Downloading package omw-1.4 to /root/nltk_data...\n"
          ]
        },
        {
          "output_type": "execute_result",
          "data": {
            "text/plain": [
              "True"
            ]
          },
          "metadata": {},
          "execution_count": 8
        }
      ]
    },
    {
      "cell_type": "code",
      "execution_count": null,
      "id": "vital-cisco",
      "metadata": {
        "id": "vital-cisco"
      },
      "outputs": [],
      "source": [
        "words=[]\n",
        "labels = []\n",
        "docs = []\n",
        "ignore_list = ['?', '!']"
      ]
    },
    {
      "cell_type": "code",
      "execution_count": null,
      "id": "searching-shopper",
      "metadata": {
        "id": "searching-shopper"
      },
      "outputs": [],
      "source": [
        "dataset = open('intents.json').read()\n",
        "intents = json.loads(dataset)"
      ]
    },
    {
      "cell_type": "code",
      "execution_count": null,
      "id": "exciting-velvet",
      "metadata": {
        "id": "exciting-velvet"
      },
      "outputs": [],
      "source": [
        "for intent in intents['intents']:\n",
        "    for pattern in intent['patterns']:\n",
        "\n",
        "        #tokenize each word\n",
        "        word_token = nltk.word_tokenize(pattern)\n",
        "        words.extend(word_token)\n",
        "        #add documents in the corpus\n",
        "        docs.append((word_token, intent['tag']))\n",
        "\n",
        "        # add to our labels list\n",
        "        if intent['tag'] not in labels:\n",
        "            labels.append(intent['tag'])"
      ]
    },
    {
      "cell_type": "code",
      "execution_count": null,
      "id": "opened-darwin",
      "metadata": {
        "id": "opened-darwin"
      },
      "outputs": [],
      "source": [
        "# lemmatize each word, and sort words by removing duplicates:\n",
        "words = [lemmatizer.lemmatize(word.lower()) for word in words if word not in ignore_list]\n",
        "words = sorted(list(set(words)))"
      ]
    },
    {
      "cell_type": "code",
      "execution_count": null,
      "id": "organized-elevation",
      "metadata": {
        "colab": {
          "base_uri": "https://localhost:8080/"
        },
        "id": "organized-elevation",
        "outputId": "bac8b417-3db7-4b87-8718-0c7e0ee5fa22"
      },
      "outputs": [
        {
          "output_type": "stream",
          "name": "stdout",
          "text": [
            "9 Label ['adverse_drug', 'blood_pressure', 'blood_pressure_search', 'goodbye', 'greeting', 'hospital_search', 'options', 'pharmacy_search', 'thanks']\n"
          ]
        }
      ],
      "source": [
        "# sort labels:\n",
        "labels = sorted(list(set(labels)))\n",
        "print(len(labels), \"Label\", labels)"
      ]
    },
    {
      "cell_type": "code",
      "execution_count": null,
      "id": "neural-mentor",
      "metadata": {
        "id": "neural-mentor"
      },
      "outputs": [],
      "source": [
        "pickle.dump(words,open('words.pkl','wb'))\n",
        "pickle.dump(labels,open('labels.pkl','wb'))"
      ]
    },
    {
      "cell_type": "code",
      "execution_count": null,
      "id": "defensive-transport",
      "metadata": {
        "id": "defensive-transport"
      },
      "outputs": [],
      "source": [
        "# creating our training data:\n",
        "training_data = []\n",
        "# creating an empty array for our output (with size same as length of labels):\n",
        "output = [0]*len(labels)\n",
        "\n",
        "for doc in docs:\n",
        "    bag_of_words = []\n",
        "    pattern_words = doc[0]\n",
        "    #lemmatize pattern words:\n",
        "    pattern_words = [lemmatizer.lemmatize(word.lower()) for word in pattern_words]\n",
        "    \n",
        "    for w in words:\n",
        "        if w in pattern_words:\n",
        "            bag_of_words.append(1)\n",
        "        else:\n",
        "            bag_of_words.append(0)\n",
        "            \n",
        "    output_row = list(output)\n",
        "    output_row[labels.index(doc[1])] = 1\n",
        "    \n",
        "    training_data.append([bag_of_words,output_row])"
      ]
    },
    {
      "cell_type": "code",
      "execution_count": null,
      "id": "executed-constitution",
      "metadata": {
        "colab": {
          "base_uri": "https://localhost:8080/"
        },
        "id": "executed-constitution",
        "outputId": "9d1f0c93-dd39-4961-905a-3ea628dd5a2a"
      },
      "outputs": [
        {
          "output_type": "stream",
          "name": "stderr",
          "text": [
            "/usr/local/lib/python3.7/dist-packages/ipykernel_launcher.py:3: VisibleDeprecationWarning: Creating an ndarray from ragged nested sequences (which is a list-or-tuple of lists-or-tuples-or ndarrays with different lengths or shapes) is deprecated. If you meant to do this, you must specify 'dtype=object' when creating the ndarray.\n",
            "  This is separate from the ipykernel package so we can avoid doing imports until\n"
          ]
        }
      ],
      "source": [
        "# convert training_data to numpy array and shuffle the data:\n",
        "random.shuffle(training_data)\n",
        "training_data = np.array(training_data)"
      ]
    },
    {
      "cell_type": "code",
      "execution_count": null,
      "id": "domestic-election",
      "metadata": {
        "id": "domestic-election"
      },
      "outputs": [],
      "source": [
        "# Now we have to create training and testing list:\n",
        "x_train = list(training_data[:,0])\n",
        "y_train = list(training_data[:,1])"
      ]
    },
    {
      "cell_type": "code",
      "source": [
        "len(y_train[1])"
      ],
      "metadata": {
        "id": "LaGWZBBMdUzG",
        "outputId": "7720d04a-b2f2-41fe-83fb-daff0bdccca3",
        "colab": {
          "base_uri": "https://localhost:8080/"
        }
      },
      "id": "LaGWZBBMdUzG",
      "execution_count": null,
      "outputs": [
        {
          "output_type": "execute_result",
          "data": {
            "text/plain": [
              "9"
            ]
          },
          "metadata": {},
          "execution_count": 47
        }
      ]
    },
    {
      "cell_type": "code",
      "source": [
        "y_train"
      ],
      "metadata": {
        "colab": {
          "base_uri": "https://localhost:8080/"
        },
        "id": "XItxlYoyT-ca",
        "outputId": "3a75f207-dbca-4445-9476-f56b27c89372"
      },
      "id": "XItxlYoyT-ca",
      "execution_count": null,
      "outputs": [
        {
          "output_type": "execute_result",
          "data": {
            "text/plain": [
              "[[0, 0, 0, 0, 0, 0, 1, 0, 0],\n",
              " [0, 0, 1, 0, 0, 0, 0, 0, 0],\n",
              " [0, 0, 0, 0, 0, 1, 0, 0, 0],\n",
              " [0, 0, 0, 0, 0, 1, 0, 0, 0],\n",
              " [0, 0, 0, 0, 0, 1, 0, 0, 0],\n",
              " [1, 0, 0, 0, 0, 0, 0, 0, 0],\n",
              " [0, 0, 0, 1, 0, 0, 0, 0, 0],\n",
              " [0, 0, 0, 0, 0, 0, 1, 0, 0],\n",
              " [0, 1, 0, 0, 0, 0, 0, 0, 0],\n",
              " [1, 0, 0, 0, 0, 0, 0, 0, 0],\n",
              " [0, 0, 0, 0, 0, 0, 0, 1, 0],\n",
              " [0, 0, 0, 0, 0, 0, 0, 0, 1],\n",
              " [0, 1, 0, 0, 0, 0, 0, 0, 0],\n",
              " [0, 0, 0, 0, 1, 0, 0, 0, 0],\n",
              " [0, 0, 0, 0, 0, 0, 0, 0, 1],\n",
              " [0, 1, 0, 0, 0, 0, 0, 0, 0],\n",
              " [0, 0, 1, 0, 0, 0, 0, 0, 0],\n",
              " [0, 0, 1, 0, 0, 0, 0, 0, 0],\n",
              " [0, 0, 0, 0, 1, 0, 0, 0, 0],\n",
              " [0, 0, 0, 0, 1, 0, 0, 0, 0],\n",
              " [0, 0, 0, 0, 0, 0, 1, 0, 0],\n",
              " [0, 0, 0, 1, 0, 0, 0, 0, 0],\n",
              " [0, 1, 0, 0, 0, 0, 0, 0, 0],\n",
              " [1, 0, 0, 0, 0, 0, 0, 0, 0],\n",
              " [1, 0, 0, 0, 0, 0, 0, 0, 0],\n",
              " [0, 0, 0, 0, 0, 0, 0, 0, 1],\n",
              " [0, 0, 0, 0, 0, 1, 0, 0, 0],\n",
              " [1, 0, 0, 0, 0, 0, 0, 0, 0],\n",
              " [0, 0, 0, 0, 0, 0, 1, 0, 0],\n",
              " [0, 0, 0, 0, 0, 0, 1, 0, 0],\n",
              " [0, 0, 0, 0, 1, 0, 0, 0, 0],\n",
              " [0, 0, 0, 1, 0, 0, 0, 0, 0],\n",
              " [0, 0, 1, 0, 0, 0, 0, 0, 0],\n",
              " [0, 1, 0, 0, 0, 0, 0, 0, 0],\n",
              " [0, 0, 0, 1, 0, 0, 0, 0, 0],\n",
              " [0, 0, 0, 0, 0, 0, 0, 0, 1],\n",
              " [0, 0, 0, 0, 0, 0, 0, 1, 0],\n",
              " [0, 0, 0, 0, 1, 0, 0, 0, 0],\n",
              " [0, 0, 0, 1, 0, 0, 0, 0, 0],\n",
              " [0, 0, 0, 0, 0, 0, 0, 1, 0],\n",
              " [0, 0, 0, 0, 1, 0, 0, 0, 0],\n",
              " [0, 0, 1, 0, 0, 0, 0, 0, 0],\n",
              " [0, 0, 0, 0, 0, 1, 0, 0, 0],\n",
              " [0, 0, 0, 0, 1, 0, 0, 0, 0],\n",
              " [0, 0, 0, 0, 0, 0, 0, 0, 1],\n",
              " [0, 0, 0, 0, 0, 0, 0, 1, 0],\n",
              " [0, 0, 0, 0, 0, 0, 0, 1, 0]]"
            ]
          },
          "metadata": {},
          "execution_count": 44
        }
      ]
    },
    {
      "cell_type": "code",
      "source": [
        "len(x_train)"
      ],
      "metadata": {
        "colab": {
          "base_uri": "https://localhost:8080/"
        },
        "id": "usLBWQQFUdP9",
        "outputId": "c5318b91-ec8b-4ca0-c684-ef96b1b87f48"
      },
      "id": "usLBWQQFUdP9",
      "execution_count": null,
      "outputs": [
        {
          "output_type": "execute_result",
          "data": {
            "text/plain": [
              "47"
            ]
          },
          "metadata": {},
          "execution_count": 45
        }
      ]
    },
    {
      "cell_type": "code",
      "source": [
        "len(y_train)"
      ],
      "metadata": {
        "colab": {
          "base_uri": "https://localhost:8080/"
        },
        "id": "qbC0C3oHcIyM",
        "outputId": "da5bfbed-1d9d-4ede-d68b-bc2b8b1d0d4c"
      },
      "id": "qbC0C3oHcIyM",
      "execution_count": null,
      "outputs": [
        {
          "output_type": "execute_result",
          "data": {
            "text/plain": [
              "47"
            ]
          },
          "metadata": {},
          "execution_count": 46
        }
      ]
    },
    {
      "cell_type": "code",
      "execution_count": null,
      "id": "narrative-hypothesis",
      "metadata": {
        "id": "narrative-hypothesis"
      },
      "outputs": [],
      "source": [
        "# Creating Model:\n",
        "\n",
        "model = Sequential()\n",
        "model.add(Dense(128, input_shape=(len(x_train[0]),), activation='relu'))\n",
        "model.add(Dropout(0.5))\n",
        "model.add(Dense(64, activation='relu'))\n",
        "model.add(Dropout(0.5))\n",
        "model.add(Dense(len(y_train[0]), activation='softmax'))"
      ]
    },
    {
      "cell_type": "code",
      "execution_count": null,
      "id": "incident-animation",
      "metadata": {
        "colab": {
          "base_uri": "https://localhost:8080/"
        },
        "id": "incident-animation",
        "outputId": "61eb825a-19d1-4634-abe3-62df4974cd1b"
      },
      "outputs": [
        {
          "output_type": "stream",
          "name": "stdout",
          "text": [
            "Model: \"sequential\"\n",
            "_________________________________________________________________\n",
            " Layer (type)                Output Shape              Param #   \n",
            "=================================================================\n",
            " dense (Dense)               (None, 128)               11392     \n",
            "                                                                 \n",
            " dropout (Dropout)           (None, 128)               0         \n",
            "                                                                 \n",
            " dense_1 (Dense)             (None, 64)                8256      \n",
            "                                                                 \n",
            " dropout_1 (Dropout)         (None, 64)                0         \n",
            "                                                                 \n",
            " dense_2 (Dense)             (None, 9)                 585       \n",
            "                                                                 \n",
            "=================================================================\n",
            "Total params: 20,233\n",
            "Trainable params: 20,233\n",
            "Non-trainable params: 0\n",
            "_________________________________________________________________\n"
          ]
        }
      ],
      "source": [
        "model.summary()"
      ]
    },
    {
      "cell_type": "code",
      "execution_count": null,
      "id": "facial-vacation",
      "metadata": {
        "colab": {
          "base_uri": "https://localhost:8080/"
        },
        "id": "facial-vacation",
        "outputId": "cac6d4d9-3bdd-47f5-8a58-f089a287879f"
      },
      "outputs": [
        {
          "output_type": "stream",
          "name": "stderr",
          "text": [
            "/usr/local/lib/python3.7/dist-packages/keras/optimizers/optimizer_v2/gradient_descent.py:108: UserWarning: The `lr` argument is deprecated, use `learning_rate` instead.\n",
            "  super(SGD, self).__init__(name, **kwargs)\n"
          ]
        }
      ],
      "source": [
        "sgd_optimizer = SGD(lr=0.01, decay=1e-6, momentum=0.9, nesterov=True)\n",
        "model.compile(loss='categorical_crossentropy', optimizer=sgd_optimizer, metrics=['accuracy'])"
      ]
    },
    {
      "cell_type": "code",
      "source": [
        "import tensorflow as tf\n",
        "class myCallback(tf.keras.callbacks.Callback) :\n",
        "  def on_epoch_end(self,epoch, logs={}):\n",
        "    if(logs.get('accuracy') >= 0.95):\n",
        "      print('\\nReached 95% accuracy so canceling the training !')\n",
        "      self.model.stop_training = True\n",
        "\n",
        "callbacks = myCallback()"
      ],
      "metadata": {
        "id": "ZY4gprt8Uuw8"
      },
      "id": "ZY4gprt8Uuw8",
      "execution_count": null,
      "outputs": []
    },
    {
      "cell_type": "code",
      "execution_count": null,
      "id": "exclusive-allen",
      "metadata": {
        "colab": {
          "base_uri": "https://localhost:8080/"
        },
        "id": "exclusive-allen",
        "outputId": "b12fa734-c641-42e5-daeb-8a3c5af6e2f1"
      },
      "outputs": [
        {
          "output_type": "stream",
          "name": "stdout",
          "text": [
            "Epoch 1/200\n",
            "10/10 [==============================] - 1s 2ms/step - loss: 2.2386 - accuracy: 0.1489\n",
            "Epoch 2/200\n",
            "10/10 [==============================] - 0s 2ms/step - loss: 2.1665 - accuracy: 0.1702\n",
            "Epoch 3/200\n",
            "10/10 [==============================] - 0s 2ms/step - loss: 2.0055 - accuracy: 0.3404\n",
            "Epoch 4/200\n",
            "10/10 [==============================] - 0s 2ms/step - loss: 1.9918 - accuracy: 0.2340\n",
            "Epoch 5/200\n",
            "10/10 [==============================] - 0s 2ms/step - loss: 1.9499 - accuracy: 0.3617\n",
            "Epoch 6/200\n",
            "10/10 [==============================] - 0s 2ms/step - loss: 1.6831 - accuracy: 0.4468\n",
            "Epoch 7/200\n",
            "10/10 [==============================] - 0s 2ms/step - loss: 1.5796 - accuracy: 0.6596\n",
            "Epoch 8/200\n",
            "10/10 [==============================] - 0s 3ms/step - loss: 1.5498 - accuracy: 0.5106\n",
            "Epoch 9/200\n",
            "10/10 [==============================] - 0s 2ms/step - loss: 1.3990 - accuracy: 0.4894\n",
            "Epoch 10/200\n",
            "10/10 [==============================] - 0s 2ms/step - loss: 1.3070 - accuracy: 0.6170\n",
            "Epoch 11/200\n",
            "10/10 [==============================] - 0s 2ms/step - loss: 1.1626 - accuracy: 0.6383\n",
            "Epoch 12/200\n",
            "10/10 [==============================] - 0s 2ms/step - loss: 1.0584 - accuracy: 0.6596\n",
            "Epoch 13/200\n",
            "10/10 [==============================] - 0s 2ms/step - loss: 1.0439 - accuracy: 0.7021\n",
            "Epoch 14/200\n",
            "10/10 [==============================] - 0s 2ms/step - loss: 0.8437 - accuracy: 0.7660\n",
            "Epoch 15/200\n",
            "10/10 [==============================] - 0s 2ms/step - loss: 0.8076 - accuracy: 0.6809\n",
            "Epoch 16/200\n",
            "10/10 [==============================] - 0s 2ms/step - loss: 0.7331 - accuracy: 0.7660\n",
            "Epoch 17/200\n",
            "10/10 [==============================] - 0s 3ms/step - loss: 0.7754 - accuracy: 0.7234\n",
            "Epoch 18/200\n",
            "10/10 [==============================] - 0s 2ms/step - loss: 0.6294 - accuracy: 0.8085\n",
            "Epoch 19/200\n",
            "10/10 [==============================] - 0s 2ms/step - loss: 0.5041 - accuracy: 0.8723\n",
            "Epoch 20/200\n",
            "10/10 [==============================] - 0s 2ms/step - loss: 0.5655 - accuracy: 0.8085\n",
            "Epoch 21/200\n",
            "10/10 [==============================] - 0s 2ms/step - loss: 0.5995 - accuracy: 0.7660\n",
            "Epoch 22/200\n",
            "10/10 [==============================] - 0s 2ms/step - loss: 0.6583 - accuracy: 0.7234\n",
            "Epoch 23/200\n",
            "10/10 [==============================] - 0s 2ms/step - loss: 0.4399 - accuracy: 0.9149\n",
            "Epoch 24/200\n",
            "10/10 [==============================] - 0s 2ms/step - loss: 0.4012 - accuracy: 0.9362\n",
            "Epoch 25/200\n",
            " 1/10 [==>...........................] - ETA: 0s - loss: 0.4737 - accuracy: 1.0000\n",
            "Reached 95% accuracy so canceling the training !\n",
            "10/10 [==============================] - 0s 2ms/step - loss: 0.4002 - accuracy: 1.0000\n"
          ]
        }
      ],
      "source": [
        "# fit the model \n",
        "history = model.fit(np.array(x_train), np.array(y_train), epochs=200, batch_size=5, verbose=1, callbacks=[callbacks])"
      ]
    },
    {
      "cell_type": "code",
      "execution_count": null,
      "id": "useful-moses",
      "metadata": {
        "id": "useful-moses"
      },
      "outputs": [],
      "source": [
        "model.save('chatbot_Application_model.h5', history)"
      ]
    },
    {
      "cell_type": "code",
      "source": [
        "import nltk\n",
        "from nltk.stem import WordNetLemmatizer\n",
        "lemmatizer = WordNetLemmatizer()\n",
        "import pickle\n",
        "import numpy as np\n",
        "import json\n",
        "import random\n",
        "from keras.models import load_model\n",
        "\n",
        "model = load_model('chatbot_Application_model.h5')\n",
        "\n",
        "intents = json.loads(open('intents.json').read())\n",
        "words = pickle.load(open('words.pkl','rb'))\n",
        "labels = pickle.load(open('labels.pkl','rb'))\n",
        "\n",
        "\n",
        "def bank_of_words(s,words, show_details=True):\n",
        "    bag_of_words = [0 for _ in range(len(words))]\n",
        "    sent_words = nltk.word_tokenize(s)\n",
        "    sent_words = [lemmatizer.lemmatize(word.lower()) for word in sent_words]\n",
        "    for sent in sent_words:\n",
        "        for i,w in enumerate(words):\n",
        "            if w == sent:\n",
        "                bag_of_words[i] = 1\n",
        "    return np.array(bag_of_words)\n",
        "\n",
        "def predict_label(s, model):\n",
        "    # filtering out predictions\n",
        "    pred = bank_of_words(s, words,show_details=False)\n",
        "    response = model.predict(np.array([pred]))[0]\n",
        "    ERROR_THRESHOLD = 0.25\n",
        "    final_results = [[i,r] for i,r in enumerate(response) if r>ERROR_THRESHOLD]\n",
        "    final_results.sort(key=lambda x: x[1], reverse=True)\n",
        "    return_list = []\n",
        "    for r in final_results:\n",
        "        return_list.append({\"intent\": labels[r[0]], \"probability\": str(r[1])})\n",
        "    return return_list\n",
        "\n",
        "def Response(ints, intents_json):\n",
        "    tags = ints[0]['intent']\n",
        "    list_of_intents = intents_json['intents']\n",
        "    for i in list_of_intents:\n",
        "        if(i['tag']== tags):\n",
        "            response = random.choice(i['responses'])\n",
        "            break\n",
        "    return response\n",
        "\n",
        "def chatbot_response(msg):\n",
        "    ints = predict_label(msg, model)\n",
        "    response = Response(ints, intents)\n",
        "    return response\n",
        "            \n",
        "def chat():\n",
        "    print(\"Start chat with ChatBot of Project Gurukul\")\n",
        "    while True:\n",
        "        inp = input(\"You: \")\n",
        "        if inp.lower() == 'quit':\n",
        "            break\n",
        "        response = chatbot_response(inp)\n",
        "        print(\"\\n BOT: \" + response + '\\n\\n')\n",
        "\n",
        "chat()\n",
        "        \n"
      ],
      "metadata": {
        "colab": {
          "base_uri": "https://localhost:8080/"
        },
        "id": "7CZdIZtIVCp5",
        "outputId": "7737eb45-cb02-455a-eb12-fc1d214ad549"
      },
      "id": "7CZdIZtIVCp5",
      "execution_count": null,
      "outputs": [
        {
          "name": "stdout",
          "output_type": "stream",
          "text": [
            "Start chat with ChatBot of Project Gurukul\n",
            "You: How you could help me?\n",
            "1/1 [==============================] - 0s 88ms/step\n",
            "\n",
            " BOT: Offering support for Adverse drug reaction, Blood pressure, Hospitals and Pharmacies\n",
            "\n",
            "\n",
            "You: hi\n",
            "1/1 [==============================] - 0s 17ms/step\n",
            "\n",
            " BOT: Hi there, how can I help?\n",
            "\n",
            "\n",
            "You: help\n",
            "1/1 [==============================] - 0s 17ms/step\n",
            "\n",
            " BOT: Hi there, how can I help?\n",
            "\n",
            "\n",
            "You: Thanks for helping me\n",
            "1/1 [==============================] - 0s 17ms/step\n",
            "\n",
            " BOT: Any time!\n",
            "\n",
            "\n",
            "You: quir\n",
            "1/1 [==============================] - 0s 18ms/step\n",
            "\n",
            " BOT: Good to see you again\n",
            "\n",
            "\n",
            "You: quit\n"
          ]
        }
      ]
    }
  ],
  "metadata": {
    "kernelspec": {
      "display_name": "Python 3",
      "language": "python",
      "name": "python3"
    },
    "language_info": {
      "codemirror_mode": {
        "name": "ipython",
        "version": 3
      },
      "file_extension": ".py",
      "mimetype": "text/x-python",
      "name": "python",
      "nbconvert_exporter": "python",
      "pygments_lexer": "ipython3",
      "version": "3.9.1"
    },
    "colab": {
      "provenance": [],
      "include_colab_link": true
    }
  },
  "nbformat": 4,
  "nbformat_minor": 5
}